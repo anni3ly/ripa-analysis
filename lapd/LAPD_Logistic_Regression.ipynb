{
 "cells": [
  {
   "cell_type": "code",
   "execution_count": 1,
   "metadata": {},
   "outputs": [
    {
     "name": "stderr",
     "output_type": "stream",
     "text": [
      "-- Attaching packages --------------------------------------- tidyverse 1.2.1 --\n",
      "v ggplot2 3.0.0     v purrr   0.3.2\n",
      "v tibble  1.4.2     v dplyr   0.7.6\n",
      "v tidyr   0.8.1     v stringr 1.4.0\n",
      "v readr   1.1.1     v forcats 0.3.0\n",
      "-- Conflicts ------------------------------------------ tidyverse_conflicts() --\n",
      "x dplyr::filter() masks stats::filter()\n",
      "x dplyr::lag()    masks stats::lag()\n",
      "\n",
      "Attaching package: 'lubridate'\n",
      "\n",
      "The following object is masked from 'package:base':\n",
      "\n",
      "    date\n",
      "\n"
     ]
    }
   ],
   "source": [
    "## Libraries to include\n",
    "library(tidyverse)\n",
    "library(lubridate)\n",
    "# For Veil of Darkness\n",
    "library(lutz)\n",
    "library(suncalc)\n",
    "library(splines2)"
   ]
  },
  {
   "cell_type": "markdown",
   "metadata": {},
   "source": [
    "# LAPD Metro Logistic Regression"
   ]
  },
  {
   "cell_type": "code",
   "execution_count": 45,
   "metadata": {},
   "outputs": [],
   "source": [
    "# Logistic regression\n",
    "\n",
    "# Make dummy data sets with one row per stop/search\n",
    "\n",
    "stops <- data.frame(\n",
    "  race = c(\n",
    "    rep('asian', 205),\n",
    "    rep('black', 14201),\n",
    "    rep('latino', 13550),\n",
    "    rep('middleeast', 503),\n",
    "    rep('nativeind', 12),\n",
    "    rep('pacific', 56),\n",
    "    rep('white', 1593),\n",
    "    rep('multi', 193)\n",
    "  ),\n",
    "  searched = c(\n",
    "    rep(1, 53), rep(0, 152),\n",
    "    rep(1, 6662), rep(0, 7539),\n",
    "    rep(1, 6602), rep(0, 6948),\n",
    "    rep(1, 215), rep(0, 288),\n",
    "    rep(1, 5), rep(0, 7),\n",
    "    rep(1, 26), rep(0, 30),\n",
    "    rep(1, 619), rep(0, 974),\n",
    "    rep(1, 101), rep(0, 92)  \n",
    "      \n",
    "  ),\n",
    "  stringsAsFactors = FALSE\n",
    ")\n",
    "\n",
    "searches <- data.frame(\n",
    "  race = c(\n",
    "    rep('asian', 53),\n",
    "    rep('black', 6662),\n",
    "    rep('latino', 6602),\n",
    "    rep('middleeast', 215),\n",
    "    rep('nativeind', 5),\n",
    "    rep('pacific', 26),\n",
    "    rep('white', 619),\n",
    "    rep('multi', 101)\n",
    "  ),\n",
    "  contraband = c(\n",
    "    rep(1, 8), rep(0, 45),\n",
    "    rep(1, 1216), rep(0, 5446),\n",
    "    rep(1, 1223), rep(0, 5379),\n",
    "    rep(1, 32), rep(0, 183),\n",
    "    rep(1, 1), rep(0, 4),\n",
    "    rep(1, 6), rep(0, 20),\n",
    "    rep(1, 109), rep(0, 510),\n",
    "    rep(1, 9), rep(0, 92)\n",
    "  ),\n",
    "  stringsAsFactors = FALSE\n",
    ")"
   ]
  },
  {
   "cell_type": "code",
   "execution_count": 46,
   "metadata": {},
   "outputs": [
    {
     "name": "stderr",
     "output_type": "stream",
     "text": [
      "Joining, by = \"race\"\n",
      "Joining, by = \"race\"\n"
     ]
    },
    {
     "data": {
      "text/html": [
       "<table>\n",
       "<thead><tr><th scope=col>race</th><th scope=col>n()</th></tr></thead>\n",
       "<tbody>\n",
       "\t<tr><td>asian     </td><td>  205     </td></tr>\n",
       "\t<tr><td>black     </td><td>14201     </td></tr>\n",
       "\t<tr><td>latino    </td><td>13550     </td></tr>\n",
       "\t<tr><td>middleeast</td><td>  503     </td></tr>\n",
       "\t<tr><td>multi     </td><td>  193     </td></tr>\n",
       "\t<tr><td>nativeind </td><td>   12     </td></tr>\n",
       "\t<tr><td>pacific   </td><td>   56     </td></tr>\n",
       "\t<tr><td>white     </td><td> 1593     </td></tr>\n",
       "</tbody>\n",
       "</table>\n"
      ],
      "text/latex": [
       "\\begin{tabular}{r|ll}\n",
       " race & n()\\\\\n",
       "\\hline\n",
       "\t asian      &   205     \\\\\n",
       "\t black      & 14201     \\\\\n",
       "\t latino     & 13550     \\\\\n",
       "\t middleeast &   503     \\\\\n",
       "\t multi      &   193     \\\\\n",
       "\t nativeind  &    12     \\\\\n",
       "\t pacific    &    56     \\\\\n",
       "\t white      &  1593     \\\\\n",
       "\\end{tabular}\n"
      ],
      "text/markdown": [
       "\n",
       "race | n() | \n",
       "|---|---|---|---|---|---|---|---|\n",
       "| asian      |   205      | \n",
       "| black      | 14201      | \n",
       "| latino     | 13550      | \n",
       "| middleeast |   503      | \n",
       "| multi      |   193      | \n",
       "| nativeind  |    12      | \n",
       "| pacific    |    56      | \n",
       "| white      |  1593      | \n",
       "\n",
       "\n"
      ],
      "text/plain": [
       "  race       n()  \n",
       "1 asian        205\n",
       "2 black      14201\n",
       "3 latino     13550\n",
       "4 middleeast   503\n",
       "5 multi        193\n",
       "6 nativeind     12\n",
       "7 pacific       56\n",
       "8 white       1593"
      ]
     },
     "metadata": {},
     "output_type": "display_data"
    },
    {
     "data": {
      "text/html": [
       "<table>\n",
       "<thead><tr><th scope=col>race</th><th scope=col>searched</th><th scope=col>n()</th></tr></thead>\n",
       "<tbody>\n",
       "\t<tr><td>asian     </td><td>0         </td><td> 152      </td></tr>\n",
       "\t<tr><td>asian     </td><td>1         </td><td>  53      </td></tr>\n",
       "\t<tr><td>black     </td><td>0         </td><td>7539      </td></tr>\n",
       "\t<tr><td>black     </td><td>1         </td><td>6662      </td></tr>\n",
       "\t<tr><td>latino    </td><td>0         </td><td>6948      </td></tr>\n",
       "\t<tr><td>latino    </td><td>1         </td><td>6602      </td></tr>\n",
       "\t<tr><td>middleeast</td><td>0         </td><td> 288      </td></tr>\n",
       "\t<tr><td>middleeast</td><td>1         </td><td> 215      </td></tr>\n",
       "\t<tr><td>multi     </td><td>0         </td><td>  92      </td></tr>\n",
       "\t<tr><td>multi     </td><td>1         </td><td> 101      </td></tr>\n",
       "\t<tr><td>nativeind </td><td>0         </td><td>   7      </td></tr>\n",
       "\t<tr><td>nativeind </td><td>1         </td><td>   5      </td></tr>\n",
       "\t<tr><td>pacific   </td><td>0         </td><td>  30      </td></tr>\n",
       "\t<tr><td>pacific   </td><td>1         </td><td>  26      </td></tr>\n",
       "\t<tr><td>white     </td><td>0         </td><td> 974      </td></tr>\n",
       "\t<tr><td>white     </td><td>1         </td><td> 619      </td></tr>\n",
       "</tbody>\n",
       "</table>\n"
      ],
      "text/latex": [
       "\\begin{tabular}{r|lll}\n",
       " race & searched & n()\\\\\n",
       "\\hline\n",
       "\t asian      & 0          &  152      \\\\\n",
       "\t asian      & 1          &   53      \\\\\n",
       "\t black      & 0          & 7539      \\\\\n",
       "\t black      & 1          & 6662      \\\\\n",
       "\t latino     & 0          & 6948      \\\\\n",
       "\t latino     & 1          & 6602      \\\\\n",
       "\t middleeast & 0          &  288      \\\\\n",
       "\t middleeast & 1          &  215      \\\\\n",
       "\t multi      & 0          &   92      \\\\\n",
       "\t multi      & 1          &  101      \\\\\n",
       "\t nativeind  & 0          &    7      \\\\\n",
       "\t nativeind  & 1          &    5      \\\\\n",
       "\t pacific    & 0          &   30      \\\\\n",
       "\t pacific    & 1          &   26      \\\\\n",
       "\t white      & 0          &  974      \\\\\n",
       "\t white      & 1          &  619      \\\\\n",
       "\\end{tabular}\n"
      ],
      "text/markdown": [
       "\n",
       "race | searched | n() | \n",
       "|---|---|---|---|---|---|---|---|---|---|---|---|---|---|---|---|\n",
       "| asian      | 0          |  152       | \n",
       "| asian      | 1          |   53       | \n",
       "| black      | 0          | 7539       | \n",
       "| black      | 1          | 6662       | \n",
       "| latino     | 0          | 6948       | \n",
       "| latino     | 1          | 6602       | \n",
       "| middleeast | 0          |  288       | \n",
       "| middleeast | 1          |  215       | \n",
       "| multi      | 0          |   92       | \n",
       "| multi      | 1          |  101       | \n",
       "| nativeind  | 0          |    7       | \n",
       "| nativeind  | 1          |    5       | \n",
       "| pacific    | 0          |   30       | \n",
       "| pacific    | 1          |   26       | \n",
       "| white      | 0          |  974       | \n",
       "| white      | 1          |  619       | \n",
       "\n",
       "\n"
      ],
      "text/plain": [
       "   race       searched n() \n",
       "1  asian      0         152\n",
       "2  asian      1          53\n",
       "3  black      0        7539\n",
       "4  black      1        6662\n",
       "5  latino     0        6948\n",
       "6  latino     1        6602\n",
       "7  middleeast 0         288\n",
       "8  middleeast 1         215\n",
       "9  multi      0          92\n",
       "10 multi      1         101\n",
       "11 nativeind  0           7\n",
       "12 nativeind  1           5\n",
       "13 pacific    0          30\n",
       "14 pacific    1          26\n",
       "15 white      0         974\n",
       "16 white      1         619"
      ]
     },
     "metadata": {},
     "output_type": "display_data"
    },
    {
     "data": {
      "text/html": [
       "<table>\n",
       "<thead><tr><th scope=col>race4</th><th scope=col>searched</th><th scope=col>n()</th></tr></thead>\n",
       "<tbody>\n",
       "\t<tr><td>a_white</td><td>0      </td><td> 974   </td></tr>\n",
       "\t<tr><td>a_white</td><td>1      </td><td> 619   </td></tr>\n",
       "\t<tr><td>black  </td><td>0      </td><td>7539   </td></tr>\n",
       "\t<tr><td>black  </td><td>1      </td><td>6662   </td></tr>\n",
       "\t<tr><td>latino </td><td>0      </td><td>6948   </td></tr>\n",
       "\t<tr><td>latino </td><td>1      </td><td>6602   </td></tr>\n",
       "\t<tr><td>other  </td><td>0      </td><td> 569   </td></tr>\n",
       "\t<tr><td>other  </td><td>1      </td><td> 400   </td></tr>\n",
       "</tbody>\n",
       "</table>\n"
      ],
      "text/latex": [
       "\\begin{tabular}{r|lll}\n",
       " race4 & searched & n()\\\\\n",
       "\\hline\n",
       "\t a\\_white & 0         &  974     \\\\\n",
       "\t a\\_white & 1         &  619     \\\\\n",
       "\t black   & 0       & 7539   \\\\\n",
       "\t black   & 1       & 6662   \\\\\n",
       "\t latino  & 0       & 6948   \\\\\n",
       "\t latino  & 1       & 6602   \\\\\n",
       "\t other   & 0       &  569   \\\\\n",
       "\t other   & 1       &  400   \\\\\n",
       "\\end{tabular}\n"
      ],
      "text/markdown": [
       "\n",
       "race4 | searched | n() | \n",
       "|---|---|---|---|---|---|---|---|\n",
       "| a_white | 0       |  974    | \n",
       "| a_white | 1       |  619    | \n",
       "| black   | 0       | 7539    | \n",
       "| black   | 1       | 6662    | \n",
       "| latino  | 0       | 6948    | \n",
       "| latino  | 1       | 6602    | \n",
       "| other   | 0       |  569    | \n",
       "| other   | 1       |  400    | \n",
       "\n",
       "\n"
      ],
      "text/plain": [
       "  race4   searched n() \n",
       "1 a_white 0         974\n",
       "2 a_white 1         619\n",
       "3 black   0        7539\n",
       "4 black   1        6662\n",
       "5 latino  0        6948\n",
       "6 latino  1        6602\n",
       "7 other   0         569\n",
       "8 other   1         400"
      ]
     },
     "metadata": {},
     "output_type": "display_data"
    }
   ],
   "source": [
    "# Fewer race categories\n",
    "\n",
    "race4 <- tribble(\n",
    "  ~race, ~race4,\n",
    "  'asian','other',\n",
    "  'black','black',\n",
    "  'latino','latino',\n",
    "  'nativeind','other',\n",
    "  'middleeast','other',\n",
    "  'pacific','other',\n",
    "  'multi','other',\n",
    "  'white','a_white'\n",
    ")\n",
    "\n",
    "stops <- stops %>% left_join(race4)\n",
    "searches <- searches %>% left_join(race4)\n",
    "\n",
    "#Sums to ensure the data was entered correctly\n",
    "\n",
    "stops %>% group_by(race) %>% summarise(n())\n",
    "\n",
    "stops %>% group_by(race, searched) %>% summarise(n())\n",
    "\n",
    "stops %>% group_by(race4, searched) %>% summarise(n())"
   ]
  },
  {
   "cell_type": "code",
   "execution_count": 47,
   "metadata": {},
   "outputs": [
    {
     "data": {
      "text/plain": [
       "\n",
       "Call:\n",
       "glm(formula = searched ~ race4, family = \"binomial\", data = stops)\n",
       "\n",
       "Deviance Residuals: \n",
       "    Min       1Q   Median       3Q      Max  \n",
       "-1.1558  -1.1254  -0.9919   1.2304   1.3750  \n",
       "\n",
       "Coefficients:\n",
       "            Estimate Std. Error z value Pr(>|z|)    \n",
       "(Intercept) -0.45331    0.05140  -8.819  < 2e-16 ***\n",
       "race4black   0.32964    0.05408   6.095 1.09e-09 ***\n",
       "race4latino  0.40222    0.05420   7.421 1.16e-13 ***\n",
       "race4other   0.10089    0.08306   1.215    0.225    \n",
       "---\n",
       "Signif. codes:  0 '***' 0.001 '**' 0.01 '*' 0.05 '.' 0.1 ' ' 1\n",
       "\n",
       "(Dispersion parameter for binomial family taken to be 1)\n",
       "\n",
       "    Null deviance: 41922  on 30312  degrees of freedom\n",
       "Residual deviance: 41850  on 30309  degrees of freedom\n",
       "AIC: 41858\n",
       "\n",
       "Number of Fisher Scoring iterations: 4\n"
      ]
     },
     "metadata": {},
     "output_type": "display_data"
    },
    {
     "name": "stderr",
     "output_type": "stream",
     "text": [
      "Waiting for profiling to be done...\n"
     ]
    },
    {
     "data": {
      "text/html": [
       "<table>\n",
       "<thead><tr><th></th><th scope=col>OR</th><th scope=col>X2.5..</th><th scope=col>X97.5..</th></tr></thead>\n",
       "<tbody>\n",
       "\t<tr><th scope=row>(Intercept)</th><td>0.6355236</td><td>0.5743868</td><td>0.7026368</td></tr>\n",
       "\t<tr><th scope=row>race4black</th><td>1.3904622</td><td>1.2510172</td><td>1.5465021</td></tr>\n",
       "\t<tr><th scope=row>race4latino</th><td>1.4951474</td><td>1.3448950</td><td>1.6633143</td></tr>\n",
       "\t<tr><th scope=row>race4other</th><td>1.1061551</td><td>0.9397974</td><td>1.3015715</td></tr>\n",
       "</tbody>\n",
       "</table>\n"
      ],
      "text/latex": [
       "\\begin{tabular}{r|lll}\n",
       "  & OR & X2.5.. & X97.5..\\\\\n",
       "\\hline\n",
       "\t(Intercept) & 0.6355236 & 0.5743868 & 0.7026368\\\\\n",
       "\trace4black & 1.3904622 & 1.2510172 & 1.5465021\\\\\n",
       "\trace4latino & 1.4951474 & 1.3448950 & 1.6633143\\\\\n",
       "\trace4other & 1.1061551 & 0.9397974 & 1.3015715\\\\\n",
       "\\end{tabular}\n"
      ],
      "text/markdown": [
       "\n",
       "| <!--/--> | OR | X2.5.. | X97.5.. | \n",
       "|---|---|---|---|\n",
       "| (Intercept) | 0.6355236 | 0.5743868 | 0.7026368 | \n",
       "| race4black | 1.3904622 | 1.2510172 | 1.5465021 | \n",
       "| race4latino | 1.4951474 | 1.3448950 | 1.6633143 | \n",
       "| race4other | 1.1061551 | 0.9397974 | 1.3015715 | \n",
       "\n",
       "\n"
      ],
      "text/plain": [
       "            OR        X2.5..    X97.5..  \n",
       "(Intercept) 0.6355236 0.5743868 0.7026368\n",
       "race4black  1.3904622 1.2510172 1.5465021\n",
       "race4latino 1.4951474 1.3448950 1.6633143\n",
       "race4other  1.1061551 0.9397974 1.3015715"
      ]
     },
     "metadata": {},
     "output_type": "display_data"
    }
   ],
   "source": [
    "### Odds of search at a stop\n",
    "\n",
    "stopmodel <- glm(searched ~ race4, data = stops, family = \"binomial\")\n",
    "summary(stopmodel)\n",
    "\n",
    "\n",
    "#Latino coefficient is the only one that is significant.\n",
    "\n",
    "#Get the odds ratio by exponentiating the coefficients of the model\n",
    "\n",
    "stopor <- exp(data.frame(OR=coef(stopmodel), confint(stopmodel)))\n",
    "stopor\n",
    "\n",
    "#Latinos have more than XXX times the *odds* of getting searched at a traffic stop in these data \n",
    "# might be easier to explain with risk ratio\n"
   ]
  },
  {
   "cell_type": "code",
   "execution_count": 50,
   "metadata": {},
   "outputs": [
    {
     "data": {},
     "metadata": {},
     "output_type": "display_data"
    },
    {
     "data": {
      "image/png": "[encoded data removed]",
      "text/plain": [
       "plot without title"
      ]
     },
     "metadata": {},
     "output_type": "display_data"
    }
   ],
   "source": [
    "# Plot\n",
    "ggplot() + \n",
    "  geom_errorbar(\n",
    "    mapping=aes(x=row.names(stopor),ymin=stopor[,'X97.5..'],ymax=stopor[,'X2.5..']),\n",
    "    width=0.2,\n",
    "    size=1,\n",
    "    color=\"blue\"\n",
    "  ) + \n",
    "  geom_point(\n",
    "    mapping=aes(x=row.names(stopor), y=stopor[,'OR']),\n",
    "    size=4,\n",
    "    shape=21,\n",
    "    fill=\"white\"\n",
    "  ) +\n",
    "  geom_hline(yintercept=1) +\n",
    "  labs(x='coefficient',y='odds ratio',title='Odds of search at a stop (compared to White drivers)')"
   ]
  },
  {
   "cell_type": "code",
   "execution_count": 51,
   "metadata": {},
   "outputs": [
    {
     "data": {
      "text/plain": [
       "\n",
       "Call:\n",
       "glm(formula = contraband ~ race4, family = \"binomial\", data = searches)\n",
       "\n",
       "Deviance Residuals: \n",
       "    Min       1Q   Median       3Q      Max  \n",
       "-0.6401  -0.6401  -0.6349  -0.6349   1.9830  \n",
       "\n",
       "Coefficients:\n",
       "            Estimate Std. Error z value Pr(>|z|)    \n",
       "(Intercept) -1.54306    0.10552 -14.623   <2e-16 ***\n",
       "race4black   0.04375    0.11019   0.397    0.691    \n",
       "race4latino  0.06187    0.11018   0.562    0.574    \n",
       "race4other  -0.27223    0.17860  -1.524    0.127    \n",
       "---\n",
       "Signif. codes:  0 '***' 0.001 '**' 0.01 '*' 0.05 '.' 0.1 ' ' 1\n",
       "\n",
       "(Dispersion parameter for binomial family taken to be 1)\n",
       "\n",
       "    Null deviance: 13566  on 14282  degrees of freedom\n",
       "Residual deviance: 13560  on 14279  degrees of freedom\n",
       "AIC: 13568\n",
       "\n",
       "Number of Fisher Scoring iterations: 4\n"
      ]
     },
     "metadata": {},
     "output_type": "display_data"
    },
    {
     "name": "stderr",
     "output_type": "stream",
     "text": [
      "Waiting for profiling to be done...\n"
     ]
    },
    {
     "data": {
      "text/html": [
       "<table>\n",
       "<thead><tr><th></th><th scope=col>OR</th><th scope=col>X2.5..</th><th scope=col>X97.5..</th></tr></thead>\n",
       "<tbody>\n",
       "\t<tr><th scope=row>(Intercept)</th><td>0.2137255</td><td>0.1729550</td><td>0.2616728</td></tr>\n",
       "\t<tr><th scope=row>race4black</th><td>1.0447193</td><td>0.8451821</td><td>1.3022926</td></tr>\n",
       "\t<tr><th scope=row>race4latino</th><td>1.0638211</td><td>0.8606552</td><td>1.3260771</td></tr>\n",
       "\t<tr><th scope=row>race4other</th><td>0.7616812</td><td>0.5339118</td><td>1.0765727</td></tr>\n",
       "</tbody>\n",
       "</table>\n"
      ],
      "text/latex": [
       "\\begin{tabular}{r|lll}\n",
       "  & OR & X2.5.. & X97.5..\\\\\n",
       "\\hline\n",
       "\t(Intercept) & 0.2137255 & 0.1729550 & 0.2616728\\\\\n",
       "\trace4black & 1.0447193 & 0.8451821 & 1.3022926\\\\\n",
       "\trace4latino & 1.0638211 & 0.8606552 & 1.3260771\\\\\n",
       "\trace4other & 0.7616812 & 0.5339118 & 1.0765727\\\\\n",
       "\\end{tabular}\n"
      ],
      "text/markdown": [
       "\n",
       "| <!--/--> | OR | X2.5.. | X97.5.. | \n",
       "|---|---|---|---|\n",
       "| (Intercept) | 0.2137255 | 0.1729550 | 0.2616728 | \n",
       "| race4black | 1.0447193 | 0.8451821 | 1.3022926 | \n",
       "| race4latino | 1.0638211 | 0.8606552 | 1.3260771 | \n",
       "| race4other | 0.7616812 | 0.5339118 | 1.0765727 | \n",
       "\n",
       "\n"
      ],
      "text/plain": [
       "            OR        X2.5..    X97.5..  \n",
       "(Intercept) 0.2137255 0.1729550 0.2616728\n",
       "race4black  1.0447193 0.8451821 1.3022926\n",
       "race4latino 1.0638211 0.8606552 1.3260771\n",
       "race4other  0.7616812 0.5339118 1.0765727"
      ]
     },
     "metadata": {},
     "output_type": "display_data"
    },
    {
     "data": {},
     "metadata": {},
     "output_type": "display_data"
    },
    {
     "data": {
      "image/png": "[encoded data removed]",
      "text/plain": [
       "plot without title"
      ]
     },
     "metadata": {},
     "output_type": "display_data"
    }
   ],
   "source": [
    "# In this plot, the intercept can be safely ignored. \n",
    "# The reference group here is Other Race drivers, because it appears alphabetically first. \n",
    "# The confidence interval for Blacks and Latinos is far above 1. \n",
    "# If it were to contain 1, as the white and other groups do,\n",
    "#it would indicate no statistically signifcant difference with the black drivers. \n",
    "# It's clear that the odds of Latinos getting searched is much higher than the rest of the population.\n",
    "\n",
    "# Odds of contraband found during a search\n",
    "\n",
    "searchmodel <- glm(contraband ~ race4, data = searches, family = \"binomial\")\n",
    "summary(searchmodel)\n",
    "\n",
    "searchor <- exp(data.frame(OR=coef(searchmodel), confint(searchmodel)))\n",
    "searchor\n",
    "\n",
    "ggplot() + \n",
    "  geom_errorbar(\n",
    "    mapping=aes(x=row.names(searchor),ymin=searchor[,'X97.5..'],ymax=searchor[,'X2.5..']),\n",
    "    width=0.2,\n",
    "    size=1,\n",
    "    color=\"blue\"\n",
    "  ) + \n",
    "  geom_point(\n",
    "    mapping=aes(x=row.names(searchor), y=searchor[,'OR']),\n",
    "    size=4,\n",
    "    shape=21,\n",
    "    fill=\"white\"\n",
    "  ) +\n",
    "  geom_hline(yintercept=1) +\n",
    "  labs(x='coefficient',y='odds ratio',title='Odds of contraband being found during a search (compared to White drivers)')\n",
    "\n",
    "#Here the Latino and white confidence intervals both capture the value 1, indicating there is not a significant difference in the odds of Latinos, whites and blacks when it comes to contraband turning up during searches.\n",
    "\n",
    "# The \"other\" group seems to be significantly higher than blacks, though the really wide confidence interval indicates a lot of variation. This could be because the 37 unknowns are all treated as if there was contraband found during the search."
   ]
  },
  {
   "cell_type": "markdown",
   "metadata": {},
   "source": [
    "# ALL LAPD Stop Analysis"
   ]
  },
  {
   "cell_type": "code",
   "execution_count": 40,
   "metadata": {},
   "outputs": [],
   "source": [
    "# Logistic regression\n",
    "\n",
    "# Make dummy data sets with one row per stop/search\n",
    "\n",
    "stops <- data.frame(\n",
    "  race = c(\n",
    "    rep('asian', 11403),\n",
    "    rep('black', 81615),\n",
    "    rep('latino', 142829),\n",
    "    rep('middleeast', 11112),\n",
    "    rep('nativeind', 194),\n",
    "    rep('pacific', 810),\n",
    "    rep('white', 52807),\n",
    "    rep('multi', 2162)\n",
    "  ),\n",
    "  searched = c(\n",
    "    rep(1, 249), rep(0, 11154),\n",
    "    rep(1, 19355), rep(0, 62260),\n",
    "    rep(1, 23724), rep(0, 119105),\n",
    "    rep(1, 557), rep(0, 10555),\n",
    "    rep(1, 43), rep(0, 151),\n",
    "    rep(1, 66), rep(0, 744),\n",
    "    rep(1, 2777), rep(0, 50030),\n",
    "    rep(1, 340), rep(0, 1822)  \n",
    "      \n",
    "  ),\n",
    "  stringsAsFactors = FALSE\n",
    ")\n",
    "\n",
    "searches <- data.frame(\n",
    "  race = c(\n",
    "    rep('asian', 249),\n",
    "    rep('black', 19355),\n",
    "    rep('latino', 23724),\n",
    "    rep('middleeast', 557),\n",
    "    rep('nativeind', 43),\n",
    "    rep('pacific', 66),\n",
    "    rep('white', 2777),\n",
    "    rep('multi', 340)\n",
    "  ),\n",
    "  contraband = c(\n",
    "    rep(1, 48), rep(0, 201),\n",
    "    rep(1, 3374), rep(0, 15981),\n",
    "    rep(1, 3790), rep(0, 19934),\n",
    "    rep(1, 91), rep(0, 466),\n",
    "    rep(1, 4), rep(0, 39),\n",
    "    rep(1, 15), rep(0, 51),\n",
    "    rep(1, 578), rep(0, 2199),\n",
    "    rep(1, 47), rep(0, 293)\n",
    "  ),\n",
    "  stringsAsFactors = FALSE\n",
    ")"
   ]
  },
  {
   "cell_type": "code",
   "execution_count": 41,
   "metadata": {},
   "outputs": [
    {
     "name": "stderr",
     "output_type": "stream",
     "text": [
      "Joining, by = \"race\"\n",
      "Joining, by = \"race\"\n"
     ]
    },
    {
     "data": {
      "text/html": [
       "<table>\n",
       "<thead><tr><th scope=col>race</th><th scope=col>n()</th></tr></thead>\n",
       "<tbody>\n",
       "\t<tr><td>asian     </td><td> 11403    </td></tr>\n",
       "\t<tr><td>black     </td><td> 81615    </td></tr>\n",
       "\t<tr><td>latino    </td><td>142829    </td></tr>\n",
       "\t<tr><td>middleeast</td><td> 11112    </td></tr>\n",
       "\t<tr><td>multi     </td><td>  2162    </td></tr>\n",
       "\t<tr><td>nativeind </td><td>   194    </td></tr>\n",
       "\t<tr><td>pacific   </td><td>   810    </td></tr>\n",
       "\t<tr><td>white     </td><td> 52807    </td></tr>\n",
       "</tbody>\n",
       "</table>\n"
      ],
      "text/latex": [
       "\\begin{tabular}{r|ll}\n",
       " race & n()\\\\\n",
       "\\hline\n",
       "\t asian      &  11403    \\\\\n",
       "\t black      &  81615    \\\\\n",
       "\t latino     & 142829    \\\\\n",
       "\t middleeast &  11112    \\\\\n",
       "\t multi      &   2162    \\\\\n",
       "\t nativeind  &    194    \\\\\n",
       "\t pacific    &    810    \\\\\n",
       "\t white      &  52807    \\\\\n",
       "\\end{tabular}\n"
      ],
      "text/markdown": [
       "\n",
       "race | n() | \n",
       "|---|---|---|---|---|---|---|---|\n",
       "| asian      |  11403     | \n",
       "| black      |  81615     | \n",
       "| latino     | 142829     | \n",
       "| middleeast |  11112     | \n",
       "| multi      |   2162     | \n",
       "| nativeind  |    194     | \n",
       "| pacific    |    810     | \n",
       "| white      |  52807     | \n",
       "\n",
       "\n"
      ],
      "text/plain": [
       "  race       n()   \n",
       "1 asian       11403\n",
       "2 black       81615\n",
       "3 latino     142829\n",
       "4 middleeast  11112\n",
       "5 multi        2162\n",
       "6 nativeind     194\n",
       "7 pacific       810\n",
       "8 white       52807"
      ]
     },
     "metadata": {},
     "output_type": "display_data"
    },
    {
     "data": {
      "text/html": [
       "<table>\n",
       "<thead><tr><th scope=col>race</th><th scope=col>searched</th><th scope=col>n()</th></tr></thead>\n",
       "<tbody>\n",
       "\t<tr><td>asian     </td><td>0         </td><td> 11154    </td></tr>\n",
       "\t<tr><td>asian     </td><td>1         </td><td>   249    </td></tr>\n",
       "\t<tr><td>black     </td><td>0         </td><td> 62260    </td></tr>\n",
       "\t<tr><td>black     </td><td>1         </td><td> 19355    </td></tr>\n",
       "\t<tr><td>latino    </td><td>0         </td><td>119105    </td></tr>\n",
       "\t<tr><td>latino    </td><td>1         </td><td> 23724    </td></tr>\n",
       "\t<tr><td>middleeast</td><td>0         </td><td> 10555    </td></tr>\n",
       "\t<tr><td>middleeast</td><td>1         </td><td>   557    </td></tr>\n",
       "\t<tr><td>multi     </td><td>0         </td><td>  1822    </td></tr>\n",
       "\t<tr><td>multi     </td><td>1         </td><td>   340    </td></tr>\n",
       "\t<tr><td>nativeind </td><td>0         </td><td>   151    </td></tr>\n",
       "\t<tr><td>nativeind </td><td>1         </td><td>    43    </td></tr>\n",
       "\t<tr><td>pacific   </td><td>0         </td><td>   744    </td></tr>\n",
       "\t<tr><td>pacific   </td><td>1         </td><td>    66    </td></tr>\n",
       "\t<tr><td>white     </td><td>0         </td><td> 50030    </td></tr>\n",
       "\t<tr><td>white     </td><td>1         </td><td>  2777    </td></tr>\n",
       "</tbody>\n",
       "</table>\n"
      ],
      "text/latex": [
       "\\begin{tabular}{r|lll}\n",
       " race & searched & n()\\\\\n",
       "\\hline\n",
       "\t asian      & 0          &  11154    \\\\\n",
       "\t asian      & 1          &    249    \\\\\n",
       "\t black      & 0          &  62260    \\\\\n",
       "\t black      & 1          &  19355    \\\\\n",
       "\t latino     & 0          & 119105    \\\\\n",
       "\t latino     & 1          &  23724    \\\\\n",
       "\t middleeast & 0          &  10555    \\\\\n",
       "\t middleeast & 1          &    557    \\\\\n",
       "\t multi      & 0          &   1822    \\\\\n",
       "\t multi      & 1          &    340    \\\\\n",
       "\t nativeind  & 0          &    151    \\\\\n",
       "\t nativeind  & 1          &     43    \\\\\n",
       "\t pacific    & 0          &    744    \\\\\n",
       "\t pacific    & 1          &     66    \\\\\n",
       "\t white      & 0          &  50030    \\\\\n",
       "\t white      & 1          &   2777    \\\\\n",
       "\\end{tabular}\n"
      ],
      "text/markdown": [
       "\n",
       "race | searched | n() | \n",
       "|---|---|---|---|---|---|---|---|---|---|---|---|---|---|---|---|\n",
       "| asian      | 0          |  11154     | \n",
       "| asian      | 1          |    249     | \n",
       "| black      | 0          |  62260     | \n",
       "| black      | 1          |  19355     | \n",
       "| latino     | 0          | 119105     | \n",
       "| latino     | 1          |  23724     | \n",
       "| middleeast | 0          |  10555     | \n",
       "| middleeast | 1          |    557     | \n",
       "| multi      | 0          |   1822     | \n",
       "| multi      | 1          |    340     | \n",
       "| nativeind  | 0          |    151     | \n",
       "| nativeind  | 1          |     43     | \n",
       "| pacific    | 0          |    744     | \n",
       "| pacific    | 1          |     66     | \n",
       "| white      | 0          |  50030     | \n",
       "| white      | 1          |   2777     | \n",
       "\n",
       "\n"
      ],
      "text/plain": [
       "   race       searched n()   \n",
       "1  asian      0         11154\n",
       "2  asian      1           249\n",
       "3  black      0         62260\n",
       "4  black      1         19355\n",
       "5  latino     0        119105\n",
       "6  latino     1         23724\n",
       "7  middleeast 0         10555\n",
       "8  middleeast 1           557\n",
       "9  multi      0          1822\n",
       "10 multi      1           340\n",
       "11 nativeind  0           151\n",
       "12 nativeind  1            43\n",
       "13 pacific    0           744\n",
       "14 pacific    1            66\n",
       "15 white      0         50030\n",
       "16 white      1          2777"
      ]
     },
     "metadata": {},
     "output_type": "display_data"
    },
    {
     "data": {
      "text/html": [
       "<table>\n",
       "<thead><tr><th scope=col>race4</th><th scope=col>searched</th><th scope=col>n()</th></tr></thead>\n",
       "<tbody>\n",
       "\t<tr><td>a_white</td><td>0      </td><td> 50030 </td></tr>\n",
       "\t<tr><td>a_white</td><td>1      </td><td>  2777 </td></tr>\n",
       "\t<tr><td>black  </td><td>0      </td><td> 62260 </td></tr>\n",
       "\t<tr><td>black  </td><td>1      </td><td> 19355 </td></tr>\n",
       "\t<tr><td>latino </td><td>0      </td><td>119105 </td></tr>\n",
       "\t<tr><td>latino </td><td>1      </td><td> 23724 </td></tr>\n",
       "\t<tr><td>other  </td><td>0      </td><td> 24426 </td></tr>\n",
       "\t<tr><td>other  </td><td>1      </td><td>  1255 </td></tr>\n",
       "</tbody>\n",
       "</table>\n"
      ],
      "text/latex": [
       "\\begin{tabular}{r|lll}\n",
       " race4 & searched & n()\\\\\n",
       "\\hline\n",
       "\t a\\_white & 0         &  50030   \\\\\n",
       "\t a\\_white & 1         &   2777   \\\\\n",
       "\t black   & 0       &  62260 \\\\\n",
       "\t black   & 1       &  19355 \\\\\n",
       "\t latino  & 0       & 119105 \\\\\n",
       "\t latino  & 1       &  23724 \\\\\n",
       "\t other   & 0       &  24426 \\\\\n",
       "\t other   & 1       &   1255 \\\\\n",
       "\\end{tabular}\n"
      ],
      "text/markdown": [
       "\n",
       "race4 | searched | n() | \n",
       "|---|---|---|---|---|---|---|---|\n",
       "| a_white | 0       |  50030  | \n",
       "| a_white | 1       |   2777  | \n",
       "| black   | 0       |  62260  | \n",
       "| black   | 1       |  19355  | \n",
       "| latino  | 0       | 119105  | \n",
       "| latino  | 1       |  23724  | \n",
       "| other   | 0       |  24426  | \n",
       "| other   | 1       |   1255  | \n",
       "\n",
       "\n"
      ],
      "text/plain": [
       "  race4   searched n()   \n",
       "1 a_white 0         50030\n",
       "2 a_white 1          2777\n",
       "3 black   0         62260\n",
       "4 black   1         19355\n",
       "5 latino  0        119105\n",
       "6 latino  1         23724\n",
       "7 other   0         24426\n",
       "8 other   1          1255"
      ]
     },
     "metadata": {},
     "output_type": "display_data"
    }
   ],
   "source": [
    "# Fewer race categories\n",
    "\n",
    "race4 <- tribble(\n",
    "  ~race, ~race4,\n",
    "  'asian','other',\n",
    "  'black','black',\n",
    "  'latino','latino',\n",
    "  'nativeind','other',\n",
    "  'middleeast','other',\n",
    "  'pacific','other',\n",
    "  'multi','other',\n",
    "  'white','a_white'\n",
    ")\n",
    "\n",
    "stops <- stops %>% left_join(race4)\n",
    "searches <- searches %>% left_join(race4)\n",
    "\n",
    "#Sums to ensure the data was entered correctly\n",
    "\n",
    "stops %>% group_by(race) %>% summarise(n())\n",
    "\n",
    "stops %>% group_by(race, searched) %>% summarise(n())\n",
    "\n",
    "stops %>% group_by(race4, searched) %>% summarise(n())"
   ]
  },
  {
   "cell_type": "code",
   "execution_count": 42,
   "metadata": {},
   "outputs": [
    {
     "data": {
      "text/plain": [
       "\n",
       "Call:\n",
       "glm(formula = searched ~ race4, family = \"binomial\", data = stops)\n",
       "\n",
       "Deviance Residuals: \n",
       "    Min       1Q   Median       3Q      Max  \n",
       "-0.7358  -0.6027  -0.6027  -0.3287   2.4571  \n",
       "\n",
       "Coefficients:\n",
       "            Estimate Std. Error  z value Pr(>|z|)    \n",
       "(Intercept) -2.89125    0.01950 -148.306   <2e-16 ***\n",
       "race4black   1.72288    0.02116   81.418   <2e-16 ***\n",
       "race4latino  1.27773    0.02075   61.574   <2e-16 ***\n",
       "race4other  -0.07726    0.03490   -2.214   0.0268 *  \n",
       "---\n",
       "Signif. codes:  0 '***' 0.001 '**' 0.01 '*' 0.05 '.' 0.1 ' ' 1\n",
       "\n",
       "(Dispersion parameter for binomial family taken to be 1)\n",
       "\n",
       "    Null deviance: 261830  on 302931  degrees of freedom\n",
       "Residual deviance: 249647  on 302928  degrees of freedom\n",
       "AIC: 249655\n",
       "\n",
       "Number of Fisher Scoring iterations: 5\n"
      ]
     },
     "metadata": {},
     "output_type": "display_data"
    },
    {
     "name": "stderr",
     "output_type": "stream",
     "text": [
      "Waiting for profiling to be done...\n"
     ]
    },
    {
     "data": {
      "text/html": [
       "<table>\n",
       "<thead><tr><th></th><th scope=col>OR</th><th scope=col>X2.5..</th><th scope=col>X97.5..</th></tr></thead>\n",
       "<tbody>\n",
       "\t<tr><th scope=row>(Intercept)</th><td>0.0555067 </td><td>0.0534140 </td><td>0.05765622</td></tr>\n",
       "\t<tr><th scope=row>race4black</th><td>5.6006532 </td><td>5.3740793 </td><td>5.83890078</td></tr>\n",
       "\t<tr><th scope=row>race4latino</th><td>3.5884966 </td><td>3.4461204 </td><td>3.73817518</td></tr>\n",
       "\t<tr><th scope=row>race4other</th><td>0.9256483 </td><td>0.8642178 </td><td>0.99091927</td></tr>\n",
       "</tbody>\n",
       "</table>\n"
      ],
      "text/latex": [
       "\\begin{tabular}{r|lll}\n",
       "  & OR & X2.5.. & X97.5..\\\\\n",
       "\\hline\n",
       "\t(Intercept) & 0.0555067  & 0.0534140  & 0.05765622\\\\\n",
       "\trace4black & 5.6006532  & 5.3740793  & 5.83890078\\\\\n",
       "\trace4latino & 3.5884966  & 3.4461204  & 3.73817518\\\\\n",
       "\trace4other & 0.9256483  & 0.8642178  & 0.99091927\\\\\n",
       "\\end{tabular}\n"
      ],
      "text/markdown": [
       "\n",
       "| <!--/--> | OR | X2.5.. | X97.5.. | \n",
       "|---|---|---|---|\n",
       "| (Intercept) | 0.0555067  | 0.0534140  | 0.05765622 | \n",
       "| race4black | 5.6006532  | 5.3740793  | 5.83890078 | \n",
       "| race4latino | 3.5884966  | 3.4461204  | 3.73817518 | \n",
       "| race4other | 0.9256483  | 0.8642178  | 0.99091927 | \n",
       "\n",
       "\n"
      ],
      "text/plain": [
       "            OR        X2.5..    X97.5..   \n",
       "(Intercept) 0.0555067 0.0534140 0.05765622\n",
       "race4black  5.6006532 5.3740793 5.83890078\n",
       "race4latino 3.5884966 3.4461204 3.73817518\n",
       "race4other  0.9256483 0.8642178 0.99091927"
      ]
     },
     "metadata": {},
     "output_type": "display_data"
    }
   ],
   "source": [
    "### Odds of search at a stop\n",
    "\n",
    "stopmodel <- glm(searched ~ race4, data = stops, family = \"binomial\")\n",
    "summary(stopmodel)\n",
    "\n",
    "\n",
    "#Latino coefficient is the only one that is significant.\n",
    "\n",
    "#Get the odds ratio by exponentiating the coefficients of the model\n",
    "\n",
    "stopor <- exp(data.frame(OR=coef(stopmodel), confint(stopmodel)))\n",
    "stopor\n",
    "\n",
    "#Latinos have more than XXX times the *odds* of getting searched at a traffic stop in these data \n",
    "# might be easier to explain with risk ratio\n"
   ]
  },
  {
   "cell_type": "code",
   "execution_count": 43,
   "metadata": {},
   "outputs": [
    {
     "data": {},
     "metadata": {},
     "output_type": "display_data"
    },
    {
     "data": {
      "image/png": "[encoded data removed]",
      "text/plain": [
       "plot without title"
      ]
     },
     "metadata": {},
     "output_type": "display_data"
    }
   ],
   "source": [
    "# Plot\n",
    "ggplot() + \n",
    "  geom_errorbar(\n",
    "    mapping=aes(x=row.names(stopor),ymin=stopor[,'X97.5..'],ymax=stopor[,'X2.5..']),\n",
    "    width=0.2,\n",
    "    size=1,\n",
    "    color=\"blue\"\n",
    "  ) + \n",
    "  geom_point(\n",
    "    mapping=aes(x=row.names(stopor), y=stopor[,'OR']),\n",
    "    size=4,\n",
    "    shape=21,\n",
    "    fill=\"white\"\n",
    "  ) +\n",
    "  geom_hline(yintercept=1) +\n",
    "  labs(x='coefficient',y='odds ratio',title='Odds of search at a stop (compared to White drivers)')"
   ]
  },
  {
   "cell_type": "code",
   "execution_count": 44,
   "metadata": {},
   "outputs": [
    {
     "data": {
      "text/plain": [
       "\n",
       "Call:\n",
       "glm(formula = contraband ~ race4, family = \"binomial\", data = searches)\n",
       "\n",
       "Deviance Residuals: \n",
       "    Min       1Q   Median       3Q      Max  \n",
       "-0.6832  -0.6190  -0.5900  -0.5900   1.9153  \n",
       "\n",
       "Coefficients:\n",
       "            Estimate Std. Error z value Pr(>|z|)    \n",
       "(Intercept) -1.33618    0.04674 -28.586  < 2e-16 ***\n",
       "race4black  -0.21912    0.05044  -4.344 1.40e-05 ***\n",
       "race4latino -0.32388    0.04999  -6.479 9.23e-11 ***\n",
       "race4other  -0.29735    0.08953  -3.321 0.000896 ***\n",
       "---\n",
       "Signif. codes:  0 '***' 0.001 '**' 0.01 '*' 0.05 '.' 0.1 ' ' 1\n",
       "\n",
       "(Dispersion parameter for binomial family taken to be 1)\n",
       "\n",
       "    Null deviance: 42758  on 47110  degrees of freedom\n",
       "Residual deviance: 42710  on 47107  degrees of freedom\n",
       "AIC: 42718\n",
       "\n",
       "Number of Fisher Scoring iterations: 4\n"
      ]
     },
     "metadata": {},
     "output_type": "display_data"
    },
    {
     "name": "stderr",
     "output_type": "stream",
     "text": [
      "Waiting for profiling to be done...\n"
     ]
    },
    {
     "data": {
      "text/html": [
       "<table>\n",
       "<thead><tr><th></th><th scope=col>OR</th><th scope=col>X2.5..</th><th scope=col>X97.5..</th></tr></thead>\n",
       "<tbody>\n",
       "\t<tr><th scope=row>(Intercept)</th><td>0.2628467</td><td>0.2396362</td><td>0.2878342</td></tr>\n",
       "\t<tr><th scope=row>race4black</th><td>0.8032274</td><td>0.7281081</td><td>0.8873053</td></tr>\n",
       "\t<tr><th scope=row>race4latino</th><td>0.7233394</td><td>0.6562776</td><td>0.7983679</td></tr>\n",
       "\t<tr><th scope=row>race4other</th><td>0.7427830</td><td>0.6221893</td><td>0.8838999</td></tr>\n",
       "</tbody>\n",
       "</table>\n"
      ],
      "text/latex": [
       "\\begin{tabular}{r|lll}\n",
       "  & OR & X2.5.. & X97.5..\\\\\n",
       "\\hline\n",
       "\t(Intercept) & 0.2628467 & 0.2396362 & 0.2878342\\\\\n",
       "\trace4black & 0.8032274 & 0.7281081 & 0.8873053\\\\\n",
       "\trace4latino & 0.7233394 & 0.6562776 & 0.7983679\\\\\n",
       "\trace4other & 0.7427830 & 0.6221893 & 0.8838999\\\\\n",
       "\\end{tabular}\n"
      ],
      "text/markdown": [
       "\n",
       "| <!--/--> | OR | X2.5.. | X97.5.. | \n",
       "|---|---|---|---|\n",
       "| (Intercept) | 0.2628467 | 0.2396362 | 0.2878342 | \n",
       "| race4black | 0.8032274 | 0.7281081 | 0.8873053 | \n",
       "| race4latino | 0.7233394 | 0.6562776 | 0.7983679 | \n",
       "| race4other | 0.7427830 | 0.6221893 | 0.8838999 | \n",
       "\n",
       "\n"
      ],
      "text/plain": [
       "            OR        X2.5..    X97.5..  \n",
       "(Intercept) 0.2628467 0.2396362 0.2878342\n",
       "race4black  0.8032274 0.7281081 0.8873053\n",
       "race4latino 0.7233394 0.6562776 0.7983679\n",
       "race4other  0.7427830 0.6221893 0.8838999"
      ]
     },
     "metadata": {},
     "output_type": "display_data"
    },
    {
     "data": {},
     "metadata": {},
     "output_type": "display_data"
    },
    {
     "data": {
      "image/png": "[encoded data removed]",
      "text/plain": [
       "plot without title"
      ]
     },
     "metadata": {},
     "output_type": "display_data"
    }
   ],
   "source": [
    "# Odds of contraband found during a search\n",
    "\n",
    "searchmodel <- glm(contraband ~ race4, data = searches, family = \"binomial\")\n",
    "summary(searchmodel)\n",
    "\n",
    "searchor <- exp(data.frame(OR=coef(searchmodel), confint(searchmodel)))\n",
    "searchor\n",
    "\n",
    "ggplot() + \n",
    "  geom_errorbar(\n",
    "    mapping=aes(x=row.names(searchor),ymin=searchor[,'X97.5..'],ymax=searchor[,'X2.5..']),\n",
    "    width=0.2,\n",
    "    size=1,\n",
    "    color=\"blue\"\n",
    "  ) + \n",
    "  geom_point(\n",
    "    mapping=aes(x=row.names(searchor), y=searchor[,'OR']),\n",
    "    size=4,\n",
    "    shape=21,\n",
    "    fill=\"white\"\n",
    "  ) +\n",
    "  geom_hline(yintercept=1) +\n",
    "  labs(x='coefficient', y='odds ratio', title='Odds of contraband found during search (compared to White drivers)')"
   ]
  },
  {
   "cell_type": "markdown",
   "metadata": {},
   "source": [
    "# ALL LAPD Stop Analysis - Exclude Probation Stops"
   ]
  },
  {
   "cell_type": "code",
   "execution_count": 35,
   "metadata": {},
   "outputs": [],
   "source": [
    "# Logistic regression\n",
    "\n",
    "# Make dummy data sets with one row per stop/search\n",
    "\n",
    "stops <- data.frame(\n",
    "  race = c(\n",
    "    rep('asian', 11155),\n",
    "    rep('black', 74774),\n",
    "    rep('latino', 134787),\n",
    "    rep('middleeast', 10922),\n",
    "    rep('nativeind', 187),\n",
    "    rep('pacific', 797),\n",
    "    rep('white', 51154),\n",
    "    rep('multi', 2053)\n",
    "  ),\n",
    "  searched = c(\n",
    "    rep(1, 213), rep(0, 10942),\n",
    "    rep(1, 13071), rep(0, 61703),\n",
    "    rep(1, 18008), rep(0, 116779),\n",
    "    rep(1, 449), rep(0, 10473),\n",
    "    rep(1, 36), rep(0, 151),\n",
    "    rep(1, 58), rep(0, 739),\n",
    "    rep(1, 2173), rep(0, 48981),\n",
    "    rep(1, 249), rep(0, 1804)  \n",
    "      \n",
    "  ),\n",
    "  stringsAsFactors = FALSE\n",
    ")\n",
    "\n",
    "searches <- data.frame(\n",
    "  race = c(\n",
    "    rep('asian', 213),\n",
    "    rep('black', 13071),\n",
    "    rep('latino', 18008),\n",
    "    rep('middleeast', 449),\n",
    "    rep('nativeind', 36),\n",
    "    rep('pacific', 58),\n",
    "    rep('white', 2173),\n",
    "    rep('multi', 249)\n",
    "  ),\n",
    "  contraband = c(\n",
    "    rep(1, 41), rep(0, 172),\n",
    "    rep(1, 2575), rep(0, 10496),\n",
    "    rep(1, 3108), rep(0, 14900),\n",
    "    rep(1, 83), rep(0, 366),\n",
    "    rep(1, 4), rep(0, 32),\n",
    "    rep(1, 14), rep(0, 44),\n",
    "    rep(1, 469), rep(0, 1704),\n",
    "    rep(1, 39), rep(0, 210)\n",
    "  ),\n",
    "  stringsAsFactors = FALSE\n",
    ")"
   ]
  },
  {
   "cell_type": "code",
   "execution_count": 36,
   "metadata": {},
   "outputs": [
    {
     "name": "stderr",
     "output_type": "stream",
     "text": [
      "Joining, by = \"race\"\n",
      "Joining, by = \"race\"\n"
     ]
    },
    {
     "data": {
      "text/html": [
       "<table>\n",
       "<thead><tr><th scope=col>race</th><th scope=col>n()</th></tr></thead>\n",
       "<tbody>\n",
       "\t<tr><td>asian     </td><td> 11155    </td></tr>\n",
       "\t<tr><td>black     </td><td> 74774    </td></tr>\n",
       "\t<tr><td>latino    </td><td>134787    </td></tr>\n",
       "\t<tr><td>middleeast</td><td> 10922    </td></tr>\n",
       "\t<tr><td>multi     </td><td>  2053    </td></tr>\n",
       "\t<tr><td>nativeind </td><td>   187    </td></tr>\n",
       "\t<tr><td>pacific   </td><td>   797    </td></tr>\n",
       "\t<tr><td>white     </td><td> 51154    </td></tr>\n",
       "</tbody>\n",
       "</table>\n"
      ],
      "text/latex": [
       "\\begin{tabular}{r|ll}\n",
       " race & n()\\\\\n",
       "\\hline\n",
       "\t asian      &  11155    \\\\\n",
       "\t black      &  74774    \\\\\n",
       "\t latino     & 134787    \\\\\n",
       "\t middleeast &  10922    \\\\\n",
       "\t multi      &   2053    \\\\\n",
       "\t nativeind  &    187    \\\\\n",
       "\t pacific    &    797    \\\\\n",
       "\t white      &  51154    \\\\\n",
       "\\end{tabular}\n"
      ],
      "text/markdown": [
       "\n",
       "race | n() | \n",
       "|---|---|---|---|---|---|---|---|\n",
       "| asian      |  11155     | \n",
       "| black      |  74774     | \n",
       "| latino     | 134787     | \n",
       "| middleeast |  10922     | \n",
       "| multi      |   2053     | \n",
       "| nativeind  |    187     | \n",
       "| pacific    |    797     | \n",
       "| white      |  51154     | \n",
       "\n",
       "\n"
      ],
      "text/plain": [
       "  race       n()   \n",
       "1 asian       11155\n",
       "2 black       74774\n",
       "3 latino     134787\n",
       "4 middleeast  10922\n",
       "5 multi        2053\n",
       "6 nativeind     187\n",
       "7 pacific       797\n",
       "8 white       51154"
      ]
     },
     "metadata": {},
     "output_type": "display_data"
    },
    {
     "data": {
      "text/html": [
       "<table>\n",
       "<thead><tr><th scope=col>race</th><th scope=col>searched</th><th scope=col>n()</th></tr></thead>\n",
       "<tbody>\n",
       "\t<tr><td>asian     </td><td>0         </td><td> 10942    </td></tr>\n",
       "\t<tr><td>asian     </td><td>1         </td><td>   213    </td></tr>\n",
       "\t<tr><td>black     </td><td>0         </td><td> 61703    </td></tr>\n",
       "\t<tr><td>black     </td><td>1         </td><td> 13071    </td></tr>\n",
       "\t<tr><td>latino    </td><td>0         </td><td>116779    </td></tr>\n",
       "\t<tr><td>latino    </td><td>1         </td><td> 18008    </td></tr>\n",
       "\t<tr><td>middleeast</td><td>0         </td><td> 10473    </td></tr>\n",
       "\t<tr><td>middleeast</td><td>1         </td><td>   449    </td></tr>\n",
       "\t<tr><td>multi     </td><td>0         </td><td>  1804    </td></tr>\n",
       "\t<tr><td>multi     </td><td>1         </td><td>   249    </td></tr>\n",
       "\t<tr><td>nativeind </td><td>0         </td><td>   151    </td></tr>\n",
       "\t<tr><td>nativeind </td><td>1         </td><td>    36    </td></tr>\n",
       "\t<tr><td>pacific   </td><td>0         </td><td>   739    </td></tr>\n",
       "\t<tr><td>pacific   </td><td>1         </td><td>    58    </td></tr>\n",
       "\t<tr><td>white     </td><td>0         </td><td> 48981    </td></tr>\n",
       "\t<tr><td>white     </td><td>1         </td><td>  2173    </td></tr>\n",
       "</tbody>\n",
       "</table>\n"
      ],
      "text/latex": [
       "\\begin{tabular}{r|lll}\n",
       " race & searched & n()\\\\\n",
       "\\hline\n",
       "\t asian      & 0          &  10942    \\\\\n",
       "\t asian      & 1          &    213    \\\\\n",
       "\t black      & 0          &  61703    \\\\\n",
       "\t black      & 1          &  13071    \\\\\n",
       "\t latino     & 0          & 116779    \\\\\n",
       "\t latino     & 1          &  18008    \\\\\n",
       "\t middleeast & 0          &  10473    \\\\\n",
       "\t middleeast & 1          &    449    \\\\\n",
       "\t multi      & 0          &   1804    \\\\\n",
       "\t multi      & 1          &    249    \\\\\n",
       "\t nativeind  & 0          &    151    \\\\\n",
       "\t nativeind  & 1          &     36    \\\\\n",
       "\t pacific    & 0          &    739    \\\\\n",
       "\t pacific    & 1          &     58    \\\\\n",
       "\t white      & 0          &  48981    \\\\\n",
       "\t white      & 1          &   2173    \\\\\n",
       "\\end{tabular}\n"
      ],
      "text/markdown": [
       "\n",
       "race | searched | n() | \n",
       "|---|---|---|---|---|---|---|---|---|---|---|---|---|---|---|---|\n",
       "| asian      | 0          |  10942     | \n",
       "| asian      | 1          |    213     | \n",
       "| black      | 0          |  61703     | \n",
       "| black      | 1          |  13071     | \n",
       "| latino     | 0          | 116779     | \n",
       "| latino     | 1          |  18008     | \n",
       "| middleeast | 0          |  10473     | \n",
       "| middleeast | 1          |    449     | \n",
       "| multi      | 0          |   1804     | \n",
       "| multi      | 1          |    249     | \n",
       "| nativeind  | 0          |    151     | \n",
       "| nativeind  | 1          |     36     | \n",
       "| pacific    | 0          |    739     | \n",
       "| pacific    | 1          |     58     | \n",
       "| white      | 0          |  48981     | \n",
       "| white      | 1          |   2173     | \n",
       "\n",
       "\n"
      ],
      "text/plain": [
       "   race       searched n()   \n",
       "1  asian      0         10942\n",
       "2  asian      1           213\n",
       "3  black      0         61703\n",
       "4  black      1         13071\n",
       "5  latino     0        116779\n",
       "6  latino     1         18008\n",
       "7  middleeast 0         10473\n",
       "8  middleeast 1           449\n",
       "9  multi      0          1804\n",
       "10 multi      1           249\n",
       "11 nativeind  0           151\n",
       "12 nativeind  1            36\n",
       "13 pacific    0           739\n",
       "14 pacific    1            58\n",
       "15 white      0         48981\n",
       "16 white      1          2173"
      ]
     },
     "metadata": {},
     "output_type": "display_data"
    },
    {
     "data": {
      "text/html": [
       "<table>\n",
       "<thead><tr><th scope=col>race4</th><th scope=col>searched</th><th scope=col>n()</th></tr></thead>\n",
       "<tbody>\n",
       "\t<tr><td>a_white</td><td>0      </td><td> 48981 </td></tr>\n",
       "\t<tr><td>a_white</td><td>1      </td><td>  2173 </td></tr>\n",
       "\t<tr><td>black  </td><td>0      </td><td> 61703 </td></tr>\n",
       "\t<tr><td>black  </td><td>1      </td><td> 13071 </td></tr>\n",
       "\t<tr><td>latino </td><td>0      </td><td>116779 </td></tr>\n",
       "\t<tr><td>latino </td><td>1      </td><td> 18008 </td></tr>\n",
       "\t<tr><td>other  </td><td>0      </td><td> 24109 </td></tr>\n",
       "\t<tr><td>other  </td><td>1      </td><td>  1005 </td></tr>\n",
       "</tbody>\n",
       "</table>\n"
      ],
      "text/latex": [
       "\\begin{tabular}{r|lll}\n",
       " race4 & searched & n()\\\\\n",
       "\\hline\n",
       "\t a\\_white & 0         &  48981   \\\\\n",
       "\t a\\_white & 1         &   2173   \\\\\n",
       "\t black   & 0       &  61703 \\\\\n",
       "\t black   & 1       &  13071 \\\\\n",
       "\t latino  & 0       & 116779 \\\\\n",
       "\t latino  & 1       &  18008 \\\\\n",
       "\t other   & 0       &  24109 \\\\\n",
       "\t other   & 1       &   1005 \\\\\n",
       "\\end{tabular}\n"
      ],
      "text/markdown": [
       "\n",
       "race4 | searched | n() | \n",
       "|---|---|---|---|---|---|---|---|\n",
       "| a_white | 0       |  48981  | \n",
       "| a_white | 1       |   2173  | \n",
       "| black   | 0       |  61703  | \n",
       "| black   | 1       |  13071  | \n",
       "| latino  | 0       | 116779  | \n",
       "| latino  | 1       |  18008  | \n",
       "| other   | 0       |  24109  | \n",
       "| other   | 1       |   1005  | \n",
       "\n",
       "\n"
      ],
      "text/plain": [
       "  race4   searched n()   \n",
       "1 a_white 0         48981\n",
       "2 a_white 1          2173\n",
       "3 black   0         61703\n",
       "4 black   1         13071\n",
       "5 latino  0        116779\n",
       "6 latino  1         18008\n",
       "7 other   0         24109\n",
       "8 other   1          1005"
      ]
     },
     "metadata": {},
     "output_type": "display_data"
    }
   ],
   "source": [
    "# Fewer race categories\n",
    "\n",
    "race4 <- tribble(\n",
    "  ~race, ~race4,\n",
    "  'asian','other',\n",
    "  'black','black',\n",
    "  'latino','latino',\n",
    "  'nativeind','other',\n",
    "  'middleeast','other',\n",
    "  'pacific','other',\n",
    "  'multi','other',\n",
    "  'white','a_white'\n",
    ")\n",
    "\n",
    "stops <- stops %>% left_join(race4)\n",
    "searches <- searches %>% left_join(race4)\n",
    "\n",
    "#Sums to ensure the data was entered correctly\n",
    "\n",
    "stops %>% group_by(race) %>% summarise(n())\n",
    "\n",
    "stops %>% group_by(race, searched) %>% summarise(n())\n",
    "\n",
    "stops %>% group_by(race4, searched) %>% summarise(n())"
   ]
  },
  {
   "cell_type": "code",
   "execution_count": 37,
   "metadata": {},
   "outputs": [
    {
     "data": {
      "text/plain": [
       "\n",
       "Call:\n",
       "glm(formula = searched ~ race4, family = \"binomial\", data = stops)\n",
       "\n",
       "Deviance Residuals: \n",
       "    Min       1Q   Median       3Q      Max  \n",
       "-0.6199  -0.5356  -0.5356  -0.2947   2.5371  \n",
       "\n",
       "Coefficients:\n",
       "            Estimate Std. Error  z value Pr(>|z|)    \n",
       "(Intercept) -3.11532    0.02192 -142.129   <2e-16 ***\n",
       "race4black   1.56339    0.02394   65.303   <2e-16 ***\n",
       "race4latino  1.24586    0.02334   53.389   <2e-16 ***\n",
       "race4other  -0.06227    0.03894   -1.599     0.11    \n",
       "---\n",
       "Signif. codes:  0 '***' 0.001 '**' 0.01 '*' 0.05 '.' 0.1 ' ' 1\n",
       "\n",
       "(Dispersion parameter for binomial family taken to be 1)\n",
       "\n",
       "    Null deviance: 209586  on 285828  degrees of freedom\n",
       "Residual deviance: 201714  on 285825  degrees of freedom\n",
       "AIC: 201722\n",
       "\n",
       "Number of Fisher Scoring iterations: 5\n"
      ]
     },
     "metadata": {},
     "output_type": "display_data"
    },
    {
     "name": "stderr",
     "output_type": "stream",
     "text": [
      "Waiting for profiling to be done...\n"
     ]
    },
    {
     "data": {
      "text/html": [
       "<table>\n",
       "<thead><tr><th></th><th scope=col>OR</th><th scope=col>X2.5..</th><th scope=col>X97.5..</th></tr></thead>\n",
       "<tbody>\n",
       "\t<tr><th scope=row>(Intercept)</th><td>0.04436414</td><td>0.04248621</td><td>0.04629896</td></tr>\n",
       "\t<tr><th scope=row>race4black</th><td>4.77496757</td><td>4.55709593</td><td>5.00555991</td></tr>\n",
       "\t<tr><th scope=row>race4latino</th><td>3.47591079</td><td>3.32130024</td><td>3.63950425</td></tr>\n",
       "\t<tr><th scope=row>race4other</th><td>0.93962556</td><td>0.87026985</td><td>1.01384210</td></tr>\n",
       "</tbody>\n",
       "</table>\n"
      ],
      "text/latex": [
       "\\begin{tabular}{r|lll}\n",
       "  & OR & X2.5.. & X97.5..\\\\\n",
       "\\hline\n",
       "\t(Intercept) & 0.04436414 & 0.04248621 & 0.04629896\\\\\n",
       "\trace4black & 4.77496757 & 4.55709593 & 5.00555991\\\\\n",
       "\trace4latino & 3.47591079 & 3.32130024 & 3.63950425\\\\\n",
       "\trace4other & 0.93962556 & 0.87026985 & 1.01384210\\\\\n",
       "\\end{tabular}\n"
      ],
      "text/markdown": [
       "\n",
       "| <!--/--> | OR | X2.5.. | X97.5.. | \n",
       "|---|---|---|---|\n",
       "| (Intercept) | 0.04436414 | 0.04248621 | 0.04629896 | \n",
       "| race4black | 4.77496757 | 4.55709593 | 5.00555991 | \n",
       "| race4latino | 3.47591079 | 3.32130024 | 3.63950425 | \n",
       "| race4other | 0.93962556 | 0.87026985 | 1.01384210 | \n",
       "\n",
       "\n"
      ],
      "text/plain": [
       "            OR         X2.5..     X97.5..   \n",
       "(Intercept) 0.04436414 0.04248621 0.04629896\n",
       "race4black  4.77496757 4.55709593 5.00555991\n",
       "race4latino 3.47591079 3.32130024 3.63950425\n",
       "race4other  0.93962556 0.87026985 1.01384210"
      ]
     },
     "metadata": {},
     "output_type": "display_data"
    }
   ],
   "source": [
    "### Odds of search at a stop\n",
    "\n",
    "stopmodel <- glm(searched ~ race4, data = stops, family = \"binomial\")\n",
    "summary(stopmodel)\n",
    "\n",
    "\n",
    "#Latino coefficient is the only one that is significant.\n",
    "\n",
    "#Get the odds ratio by exponentiating the coefficients of the model\n",
    "\n",
    "stopor <- exp(data.frame(OR=coef(stopmodel), confint(stopmodel)))\n",
    "stopor\n",
    "\n",
    "#Latinos have more than XXX times the *odds* of getting searched at a traffic stop in these data \n",
    "# might be easier to explain with risk ratio\n"
   ]
  },
  {
   "cell_type": "code",
   "execution_count": 38,
   "metadata": {},
   "outputs": [
    {
     "data": {},
     "metadata": {},
     "output_type": "display_data"
    },
    {
     "data": {
      "image/png": "[encoded data removed]",
      "text/plain": [
       "plot without title"
      ]
     },
     "metadata": {},
     "output_type": "display_data"
    }
   ],
   "source": [
    "# Plot\n",
    "ggplot() + \n",
    "  geom_errorbar(\n",
    "    mapping=aes(x=row.names(stopor),ymin=stopor[,'X97.5..'],ymax=stopor[,'X2.5..']),\n",
    "    width=0.2,\n",
    "    size=1,\n",
    "    color=\"blue\"\n",
    "  ) + \n",
    "  geom_point(\n",
    "    mapping=aes(x=row.names(stopor), y=stopor[,'OR']),\n",
    "    size=4,\n",
    "    shape=21,\n",
    "    fill=\"white\"\n",
    "  ) +\n",
    "  geom_hline(yintercept=1) +\n",
    "  labs(x='coefficient',y='odds ratio',title='Odds of search at a stop (compared to White drivers)')"
   ]
  },
  {
   "cell_type": "code",
   "execution_count": 39,
   "metadata": {},
   "outputs": [
    {
     "data": {
      "text/plain": [
       "\n",
       "Call:\n",
       "glm(formula = contraband ~ race4, family = \"binomial\", data = searches)\n",
       "\n",
       "Deviance Residuals: \n",
       "    Min       1Q   Median       3Q      Max  \n",
       "-0.6973  -0.6624  -0.6156  -0.6156   1.8745  \n",
       "\n",
       "Coefficients:\n",
       "            Estimate Std. Error z value Pr(>|z|)    \n",
       "(Intercept) -1.29013    0.05214 -24.741  < 2e-16 ***\n",
       "race4black  -0.11501    0.05659  -2.032   0.0421 *  \n",
       "race4latino -0.27725    0.05575  -4.973 6.58e-07 ***\n",
       "race4other  -0.22554    0.09725  -2.319   0.0204 *  \n",
       "---\n",
       "Signif. codes:  0 '***' 0.001 '**' 0.01 '*' 0.05 '.' 0.1 ' ' 1\n",
       "\n",
       "(Dispersion parameter for binomial family taken to be 1)\n",
       "\n",
       "    Null deviance: 32797  on 34256  degrees of freedom\n",
       "Residual deviance: 32753  on 34253  degrees of freedom\n",
       "AIC: 32761\n",
       "\n",
       "Number of Fisher Scoring iterations: 4\n"
      ]
     },
     "metadata": {},
     "output_type": "display_data"
    },
    {
     "name": "stderr",
     "output_type": "stream",
     "text": [
      "Waiting for profiling to be done...\n"
     ]
    },
    {
     "data": {
      "text/html": [
       "<table>\n",
       "<thead><tr><th></th><th scope=col>OR</th><th scope=col>X2.5..</th><th scope=col>X97.5..</th></tr></thead>\n",
       "<tbody>\n",
       "\t<tr><th scope=row>(Intercept)</th><td>0.2752347</td><td>0.2482427</td><td>0.3045573</td></tr>\n",
       "\t<tr><th scope=row>race4black</th><td>0.8913539</td><td>0.7984030</td><td>0.9967461</td></tr>\n",
       "\t<tr><th scope=row>race4latino</th><td>0.7578644</td><td>0.6799797</td><td>0.8461018</td></tr>\n",
       "\t<tr><th scope=row>race4other</th><td>0.7980831</td><td>0.6584089</td><td>0.9641293</td></tr>\n",
       "</tbody>\n",
       "</table>\n"
      ],
      "text/latex": [
       "\\begin{tabular}{r|lll}\n",
       "  & OR & X2.5.. & X97.5..\\\\\n",
       "\\hline\n",
       "\t(Intercept) & 0.2752347 & 0.2482427 & 0.3045573\\\\\n",
       "\trace4black & 0.8913539 & 0.7984030 & 0.9967461\\\\\n",
       "\trace4latino & 0.7578644 & 0.6799797 & 0.8461018\\\\\n",
       "\trace4other & 0.7980831 & 0.6584089 & 0.9641293\\\\\n",
       "\\end{tabular}\n"
      ],
      "text/markdown": [
       "\n",
       "| <!--/--> | OR | X2.5.. | X97.5.. | \n",
       "|---|---|---|---|\n",
       "| (Intercept) | 0.2752347 | 0.2482427 | 0.3045573 | \n",
       "| race4black | 0.8913539 | 0.7984030 | 0.9967461 | \n",
       "| race4latino | 0.7578644 | 0.6799797 | 0.8461018 | \n",
       "| race4other | 0.7980831 | 0.6584089 | 0.9641293 | \n",
       "\n",
       "\n"
      ],
      "text/plain": [
       "            OR        X2.5..    X97.5..  \n",
       "(Intercept) 0.2752347 0.2482427 0.3045573\n",
       "race4black  0.8913539 0.7984030 0.9967461\n",
       "race4latino 0.7578644 0.6799797 0.8461018\n",
       "race4other  0.7980831 0.6584089 0.9641293"
      ]
     },
     "metadata": {},
     "output_type": "display_data"
    },
    {
     "data": {},
     "metadata": {},
     "output_type": "display_data"
    },
    {
     "data": {
      "image/png": "[encoded data removed]",
      "text/plain": [
       "plot without title"
      ]
     },
     "metadata": {},
     "output_type": "display_data"
    }
   ],
   "source": [
    "# Odds of contraband found during a search\n",
    "\n",
    "searchmodel <- glm(contraband ~ race4, data = searches, family = \"binomial\")\n",
    "summary(searchmodel)\n",
    "\n",
    "searchor <- exp(data.frame(OR=coef(searchmodel), confint(searchmodel)))\n",
    "searchor\n",
    "\n",
    "ggplot() + \n",
    "  geom_errorbar(\n",
    "    mapping=aes(x=row.names(searchor),ymin=searchor[,'X97.5..'],ymax=searchor[,'X2.5..']),\n",
    "    width=0.2,\n",
    "    size=1,\n",
    "    color=\"blue\"\n",
    "  ) + \n",
    "  geom_point(\n",
    "    mapping=aes(x=row.names(searchor), y=searchor[,'OR']),\n",
    "    size=4,\n",
    "    shape=21,\n",
    "    fill=\"white\"\n",
    "  ) +\n",
    "  geom_hline(yintercept=1) +\n",
    "  labs(x='coefficient', y='odds ratio', title='Odds of contraband found during search (compared to White drivers)')"
   ]
  },
  {
   "cell_type": "code",
   "execution_count": null,
   "metadata": {},
   "outputs": [],
   "source": []
  }
 ],
 "metadata": {
  "kernelspec": {
   "display_name": "R",
   "language": "R",
   "name": "ir"
  },
  "language_info": {
   "codemirror_mode": "r",
   "file_extension": ".r",
   "mimetype": "text/x-r-source",
   "name": "R",
   "pygments_lexer": "r",
   "version": "3.4.4"
  }
 },
 "nbformat": 4,
 "nbformat_minor": 2
}
