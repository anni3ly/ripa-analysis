{
 "cells": [
  {
   "cell_type": "code",
   "execution_count": 1,
   "metadata": {},
   "outputs": [],
   "source": [
    "setwd(\"~/GitHub/ripa-analysis/lapd\")"
   ]
  },
  {
   "cell_type": "code",
   "execution_count": 8,
   "metadata": {},
   "outputs": [],
   "source": [
    "setwd(\"~/opp/lib\")\n",
    "source('../lib/opp.R')\n",
    "source('../lib/threshold_test.R')\n",
    "source('../lib/disparity.R')"
   ]
  },
  {
   "cell_type": "code",
   "execution_count": 10,
   "metadata": {},
   "outputs": [],
   "source": [
    "# Load Data\n",
    "ripa <- read_csv(\"RIPA_MASTER_July_April.csv\",\n",
    "                 col_types = cols(Basis_for_Search = \"c\"))\n",
    "colnames(ripa) <- make_ergonomic(colnames(ripa))\n",
    "lapd <- read_csv(\"LAPD_online_data_since_July_2018.csv\")\n",
    "colnames(lapd) <- make_ergonomic(colnames(lapd))"
   ]
  },
  {
   "cell_type": "code",
   "execution_count": 4,
   "metadata": {},
   "outputs": [],
   "source": [
    "# Filter table to just vehicle stops and divisions\n",
    "veh_frns <- lapd %>% \n",
    "  filter(stop_type == \"VEH\") %>%\n",
    "  mutate(division = if_else(\n",
    "    officer_1_division_number > 0 & officer_1_division_number <= 27,\n",
    "    division_description_1,\n",
    "    \"OTHER\")\n",
    "  ) %>% \n",
    "  select(frn, division, division_description_1, officer_1_division_number) %>% \n",
    "  unique()\n",
    "\n",
    "# The model groups the racial categories into Hispanic, black, white and other\n",
    "tr_race <- c(\n",
    "  Latino = \"hispanic\",\n",
    "  Black = \"black\",\n",
    "  White = \"white\",\n",
    "  Asian = \"other\",\n",
    "  MiddleEastSouthAsian = \"other\",\n",
    "  multiracial = \"other\",\n",
    "  `Pacific Islander` = \"other\",\n",
    "  `Native American` = \"other\"\n",
    ")"
   ]
  },
  {
   "cell_type": "code",
   "execution_count": 6,
   "metadata": {},
   "outputs": [],
   "source": [
    "# Create Discretionary Search Heirarchy \n",
    "ripa_veh <- ripa %>% \n",
    "  select(frn, race, search, basis_for_search, contraband) %>% \n",
    "  filter(frn %in% veh_frns$frn) %>% \n",
    "  left_join(veh_frns, by = \"frn\") %>% \n",
    "  mutate(\n",
    "    search_conducted = search == \"TRUE\", \n",
    "    basis_for_search_single = case_when(\n",
    "      # Plain view (visible contraband) = 6\n",
    "      str_detect(basis_for_search, \"6\") ~ 6,\n",
    "      # Plain smell (odor of contraband) = 7\n",
    "      str_detect(basis_for_search, \"7\") ~ 7,\n",
    "      # Consent = 1\n",
    "      str_detect(basis_for_search, \"(^1$)|(^1,)|(,1,)|(,1$)\") ~ 1,\n",
    "      # Safety = 2\n",
    "      str_detect(basis_for_search, \"(^2$)|(^2,)|(,2,)|(,2$)\") ~ 2,\n",
    "      # Suspected weapon = 5\n",
    "      str_detect(basis_for_search, \"5\") ~ 5,\n",
    "      # Evidence of crime = 9\n",
    "      str_detect(basis_for_search, \"9\") ~ 9,\n",
    "      # Suspected violation of school policy = 13\n",
    "      str_detect(basis_for_search, \"13\") ~ 13,\n",
    "      # Exigent circumstances/emergency = 11\n",
    "      str_detect(basis_for_search, \"11\") ~ 11,\n",
    "      # K9 detection = 8\n",
    "      str_detect(basis_for_search, \"8\") ~ 8,\n",
    "      # Warrant = 3\n",
    "      str_detect(basis_for_search, \"(^3$)|(^3,)|(,3,)|(,3$)\") ~ 3,\n",
    "      # Probation/parole = 4\n",
    "      str_detect(basis_for_search, \"4\") ~ 4,\n",
    "      # Incident to arrest = 10\n",
    "      str_detect(basis_for_search, \"10\") ~ 10,\n",
    "      # Vehicle inventory = 12\n",
    "      str_detect(basis_for_search, \"12\") ~ 12,\n",
    "      TRUE ~ NA_real_\n",
    "    ),\n",
    "    # Non-discretionary searches:\n",
    "    # 3 = warrant, 4 = as condition of probation/parole, 10 = incident to arrest, 12 = vehicle inventory)\n",
    "    non_discretionary_search = basis_for_search_single %in% c(3, 4, 10, 12),\n",
    "    contraband_found = contraband == \"TRUE\",\n",
    "    contraband_found = if_else(!search_conducted, FALSE, contraband_found),\n",
    "    subject_race = as.factor(tr_race[race]),\n",
    "    sub_geography = division,\n",
    "    geography = \"LA\"\n",
    "  ) "
   ]
  },
  {
   "cell_type": "code",
   "execution_count": 7,
   "metadata": {},
   "outputs": [
    {
     "name": "stderr",
     "output_type": "stream",
     "text": [
      "Warning message:\n",
      "\"2.33% of data was null for required columns and removed\"Warning message in metadata[\"stan_warnings\"] <- summary(warnings()):\n",
      "\"number of items to replace is not a multiple of replacement length\"Warning message:\n",
      "\"2.38% of data was null for required columns and removed\"recompiling to avoid crashing R session\n",
      "Warning message in metadata[\"stan_warnings\"] <- summary(warnings()):\n",
      "\"number of items to replace is not a multiple of replacement length\""
     ]
    },
    {
     "name": "stdout",
     "output_type": "stream",
     "text": [
      "[1] \"max Rhat\"\n",
      "[1] 1.007569\n",
      "[1] \"min n_eff\"\n",
      "numeric(0)\n",
      "[1] \"Weighted RMS prediction error: 0.35%\"\n",
      "[1] \"Weighted RMS prediction error: NaN%\"\n",
      "[1] \"max Rhat\"\n",
      "[1] 1.006518\n",
      "[1] \"min n_eff\"\n",
      "numeric(0)\n",
      "[1] \"Weighted RMS prediction error: 0.26%\"\n",
      "[1] \"Weighted RMS prediction error: NaN%\"\n"
     ]
    },
    {
     "data": {
      "text/html": [
       "<table>\n",
       "<thead><tr><th scope=col>race</th><th scope=col>avg_threshold</th><th scope=col>threshold_ci</th><th scope=col>threshold_diff</th><th scope=col>diff_ci</th></tr></thead>\n",
       "<tbody>\n",
       "\t<tr><td>black           </td><td>15.70%          </td><td>(15.07%, 16.31%)</td><td>-1.96%          </td><td>(-3.41%, -0.55%)</td></tr>\n",
       "\t<tr><td>hispanic        </td><td>14.97%          </td><td>(14.38%, 15.55%)</td><td>-2.68%          </td><td>(-4.13%, -1.30%)</td></tr>\n",
       "\t<tr><td>other           </td><td>14.63%          </td><td>(13.12%, 16.24%)</td><td>-3.02%          </td><td>(-5.02%, -0.97%)</td></tr>\n",
       "\t<tr><td>white           </td><td>17.65%          </td><td>(16.39%, 18.97%)</td><td>                </td><td>                </td></tr>\n",
       "</tbody>\n",
       "</table>\n"
      ],
      "text/latex": [
       "\\begin{tabular}{r|lllll}\n",
       " race & avg\\_threshold & threshold\\_ci & threshold\\_diff & diff\\_ci\\\\\n",
       "\\hline\n",
       "\t black                & 15.70\\%             & (15.07\\%, 16.31\\%) & -1.96\\%             & (-3.41\\%, -0.55\\%)\\\\\n",
       "\t hispanic             & 14.97\\%             & (14.38\\%, 15.55\\%) & -2.68\\%             & (-4.13\\%, -1.30\\%)\\\\\n",
       "\t other                & 14.63\\%             & (13.12\\%, 16.24\\%) & -3.02\\%             & (-5.02\\%, -0.97\\%)\\\\\n",
       "\t white                & 17.65\\%             & (16.39\\%, 18.97\\%) &                      &                     \\\\\n",
       "\\end{tabular}\n"
      ],
      "text/markdown": [
       "\n",
       "race | avg_threshold | threshold_ci | threshold_diff | diff_ci | \n",
       "|---|---|---|---|\n",
       "| black            | 15.70%           | (15.07%, 16.31%) | -1.96%           | (-3.41%, -0.55%) | \n",
       "| hispanic         | 14.97%           | (14.38%, 15.55%) | -2.68%           | (-4.13%, -1.30%) | \n",
       "| other            | 14.63%           | (13.12%, 16.24%) | -3.02%           | (-5.02%, -0.97%) | \n",
       "| white            | 17.65%           | (16.39%, 18.97%) |                  |                  | \n",
       "\n",
       "\n"
      ],
      "text/plain": [
       "  race     avg_threshold threshold_ci     threshold_diff diff_ci         \n",
       "1 black    15.70%        (15.07%, 16.31%) -1.96%         (-3.41%, -0.55%)\n",
       "2 hispanic 14.97%        (14.38%, 15.55%) -2.68%         (-4.13%, -1.30%)\n",
       "3 other    14.63%        (13.12%, 16.24%) -3.02%         (-5.02%, -0.97%)\n",
       "4 white    17.65%        (16.39%, 18.97%)                                "
      ]
     },
     "metadata": {},
     "output_type": "display_data"
    },
    {
     "data": {
      "text/html": [
       "<table>\n",
       "<thead><tr><th scope=col>race</th><th scope=col>avg_threshold</th><th scope=col>threshold_ci</th><th scope=col>threshold_diff</th><th scope=col>diff_ci</th></tr></thead>\n",
       "<tbody>\n",
       "\t<tr><td>black           </td><td>18.32%          </td><td>(17.33%, 19.31%)</td><td>-6.44%          </td><td>(-9.63%, -3.56%)</td></tr>\n",
       "\t<tr><td>hispanic        </td><td>18.85%          </td><td>(17.83%, 19.94%)</td><td>-5.91%          </td><td>(-9.02%, -2.98%)</td></tr>\n",
       "\t<tr><td>other           </td><td>20.76%          </td><td>(18.01%, 23.88%)</td><td>-4.00%          </td><td>(-8.12%, 0.10%) </td></tr>\n",
       "\t<tr><td>white           </td><td>24.76%          </td><td>(22.02%, 27.77%)</td><td>                </td><td>                </td></tr>\n",
       "</tbody>\n",
       "</table>\n"
      ],
      "text/latex": [
       "\\begin{tabular}{r|lllll}\n",
       " race & avg\\_threshold & threshold\\_ci & threshold\\_diff & diff\\_ci\\\\\n",
       "\\hline\n",
       "\t black                & 18.32\\%             & (17.33\\%, 19.31\\%) & -6.44\\%             & (-9.63\\%, -3.56\\%)\\\\\n",
       "\t hispanic             & 18.85\\%             & (17.83\\%, 19.94\\%) & -5.91\\%             & (-9.02\\%, -2.98\\%)\\\\\n",
       "\t other                & 20.76\\%             & (18.01\\%, 23.88\\%) & -4.00\\%             & (-8.12\\%, 0.10\\%) \\\\\n",
       "\t white                & 24.76\\%             & (22.02\\%, 27.77\\%) &                      &                     \\\\\n",
       "\\end{tabular}\n"
      ],
      "text/markdown": [
       "\n",
       "race | avg_threshold | threshold_ci | threshold_diff | diff_ci | \n",
       "|---|---|---|---|\n",
       "| black            | 18.32%           | (17.33%, 19.31%) | -6.44%           | (-9.63%, -3.56%) | \n",
       "| hispanic         | 18.85%           | (17.83%, 19.94%) | -5.91%           | (-9.02%, -2.98%) | \n",
       "| other            | 20.76%           | (18.01%, 23.88%) | -4.00%           | (-8.12%, 0.10%)  | \n",
       "| white            | 24.76%           | (22.02%, 27.77%) |                  |                  | \n",
       "\n",
       "\n"
      ],
      "text/plain": [
       "  race     avg_threshold threshold_ci     threshold_diff diff_ci         \n",
       "1 black    18.32%        (17.33%, 19.31%) -6.44%         (-9.63%, -3.56%)\n",
       "2 hispanic 18.85%        (17.83%, 19.94%) -5.91%         (-9.02%, -2.98%)\n",
       "3 other    20.76%        (18.01%, 23.88%) -4.00%         (-8.12%, 0.10%) \n",
       "4 white    24.76%        (22.02%, 27.77%)                                "
      ]
     },
     "metadata": {},
     "output_type": "display_data"
    }
   ],
   "source": [
    "# Run threshold test for all searches and for just discretionary searches\n",
    "tt_results_all_searches <- threshold_test(\n",
    "  ripa_veh,\n",
    "  sub_geography,\n",
    "  geography_col = geography\n",
    ")\n",
    "write_rds(tt_results_all_searches, \"tt_results_all_searches.rds\")\n",
    "\n",
    "tt_results_discretionary_searches <- threshold_test(\n",
    "  ripa_veh %>% filter(!non_discretionary_search),\n",
    "  sub_geography,\n",
    "  geography_col = geography\n",
    ")\n",
    "write_rds(\n",
    "  tt_results_discretionary_searches, \n",
    "  \"tt_results_discretionary_searches.rds\"\n",
    ")\n",
    "\n",
    "\n",
    "# Function wrapper for convergence checks and ppcs\n",
    "model_checks <- function(model_result) {\n",
    "  fit <- model_result$metadata$fit\n",
    "  summary <- summary(fit)$summary\n",
    "  # Want this to be < 1.05\n",
    "  print(\"max Rhat\")\n",
    "  print(summary[,'Rhat'] %>% max(na.rm = T))\n",
    "  # Want this to be > 0.001\n",
    "  print(\"min n_eff\")\n",
    "  print(summary[,'n_eff'] %>% min(na.rm = T) / nrow(tbl))\n",
    "\n",
    "  search_rate_ppc <- plt_ppc_rates(\n",
    "    model_result$results$thresholds,\n",
    "    rstan::extract(model_result$metadata$fit),\n",
    "    \"search_rate\",\n",
    "    numerator_col = n_action,\n",
    "    denominator_col = n,\n",
    "    title = str_c(\"LA threshold ppc - search rates\")\n",
    "  )\n",
    "\n",
    "  hit_rate_ppc <- plt_ppc_rates(\n",
    "    model_result$results$thresholds,\n",
    "    rstan::extract(model_result$metadata$fit),\n",
    "    \"hit_rate\",\n",
    "    numerator_col = n_outcome,\n",
    "    denominator_col = n_action,\n",
    "    title = str_c(\"LA threshold ppc - hit rates\")\n",
    "  )\n",
    "\n",
    "  list(\n",
    "    search_rate_ppc = search_rate_ppc,\n",
    "    hit_rate_ppc = hit_rate_ppc\n",
    "  )\n",
    "}\n",
    "\n",
    "all_search_checks <- model_checks(tt_results_all_searches)\n",
    "disc_search_checks <- model_checks(tt_results_discretionary_searches)\n",
    "\n",
    "tt_results_all_searches$results$aggregate_thresholds\n",
    "tt_results_discretionary_searches$results$aggregate_thresholds"
   ]
  }
 ],
 "metadata": {
  "kernelspec": {
   "display_name": "R",
   "language": "R",
   "name": "ir"
  },
  "language_info": {
   "codemirror_mode": "r",
   "file_extension": ".r",
   "mimetype": "text/x-r-source",
   "name": "R",
   "pygments_lexer": "r",
   "version": "3.4.4"
  }
 },
 "nbformat": 4,
 "nbformat_minor": 2
}
