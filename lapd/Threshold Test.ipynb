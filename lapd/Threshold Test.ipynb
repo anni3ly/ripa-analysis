{
 "cells": [
  {
   "cell_type": "markdown",
   "metadata": {},
   "source": [
    "# Threshold Test "
   ]
  },
  {
   "cell_type": "markdown",
   "metadata": {},
   "source": [
    "# Amy Shoemaker Code:"
   ]
  },
  {
   "cell_type": "code",
   "execution_count": 1,
   "metadata": {},
   "outputs": [],
   "source": [
    "setwd(\"~/GitHub/ripa-analysis/lapd\")"
   ]
  },
  {
   "cell_type": "code",
   "execution_count": 2,
   "metadata": {},
   "outputs": [
    {
     "name": "stderr",
     "output_type": "stream",
     "text": [
      "here() starts at C:/Users/bposton/Documents/GitHub/ripa-analysis\n",
      "\n",
      "Attaching package: 'lubridate'\n",
      "\n",
      "The following object is masked from 'package:here':\n",
      "\n",
      "    here\n",
      "\n",
      "The following object is masked from 'package:base':\n",
      "\n",
      "    date\n",
      "\n",
      "\n",
      "Attaching package: 'purrr'\n",
      "\n",
      "The following object is masked from 'package:maps':\n",
      "\n",
      "    map\n",
      "\n",
      "The following object is masked from 'package:jsonlite':\n",
      "\n",
      "    flatten\n",
      "\n",
      "\n",
      "Attaching package: 'rlang'\n",
      "\n",
      "The following objects are masked from 'package:purrr':\n",
      "\n",
      "    %@%, as_function, flatten, flatten_chr, flatten_dbl, flatten_int,\n",
      "    flatten_lgl, flatten_raw, invoke, list_along, modify, prepend,\n",
      "    splice\n",
      "\n",
      "The following objects are masked from 'package:jsonlite':\n",
      "\n",
      "    flatten, unbox\n",
      "\n",
      "Loading required package: sp\n",
      "rgdal: version: 1.4-3, (SVN revision 828)\n",
      " Geospatial Data Abstraction Library extensions to R successfully loaded\n",
      " Loaded GDAL runtime: GDAL 2.2.3, released 2017/11/20\n",
      " Path to GDAL shared files: C:/Program Files/R/R-3.4.4/library/rgdal/gdal\n",
      " GDAL binary built with GEOS: TRUE \n",
      " Loaded PROJ.4 runtime: Rel. 4.9.3, 15 August 2016, [PJ_VERSION: 493]\n",
      " Path to PROJ.4 shared files: C:/Program Files/R/R-3.4.4/library/rgdal/proj\n",
      " Linking to sp version: 1.3-1 \n",
      "Loading required package: ggplot2\n",
      "Loading required package: StanHeaders\n",
      "rstan (Version 2.18.2, GitRev: 2e1f913d3ca3)\n",
      "For execution on a local, multicore CPU with excess RAM we recommend calling\n",
      "options(mc.cores = parallel::detectCores()).\n",
      "To avoid recompilation of unchanged Stan programs, we recommend calling\n",
      "rstan_options(auto_write = TRUE)\n",
      "For improved execution time, we recommend calling\n",
      "Sys.setenv(LOCAL_CPPFLAGS = '-march=native')\n",
      "although this causes Stan to throw an error on a few processors.\n",
      "\n",
      "Attaching package: 'scales'\n",
      "\n",
      "The following object is masked from 'package:purrr':\n",
      "\n",
      "    discard\n",
      "\n",
      "-- Attaching packages --------------------------------------- tidyverse 1.2.1 --\n",
      "v tibble  1.4.2     v dplyr   0.7.6\n",
      "v tidyr   0.8.1     v stringr 1.4.0\n",
      "v readr   1.1.1     v forcats 0.3.0\n",
      "-- Conflicts ------------------------------------------ tidyverse_conflicts() --\n",
      "x rlang::%@%()             masks purrr::%@%()\n",
      "x lubridate::as.difftime() masks base::as.difftime()\n",
      "x rlang::as_function()     masks purrr::as_function()\n",
      "x readr::col_factor()      masks scales::col_factor()\n",
      "x lubridate::date()        masks base::date()\n",
      "x scales::discard()        masks purrr::discard()\n",
      "x tidyr::extract()         masks rstan::extract()\n",
      "x dplyr::filter()          masks stats::filter()\n",
      "x rlang::flatten()         masks purrr::flatten(), jsonlite::flatten()\n",
      "x rlang::flatten_chr()     masks purrr::flatten_chr()\n",
      "x rlang::flatten_dbl()     masks purrr::flatten_dbl()\n",
      "x rlang::flatten_int()     masks purrr::flatten_int()\n",
      "x rlang::flatten_lgl()     masks purrr::flatten_lgl()\n",
      "x rlang::flatten_raw()     masks purrr::flatten_raw()\n",
      "x lubridate::here()        masks here::here()\n",
      "x lubridate::intersect()   masks base::intersect()\n",
      "x rlang::invoke()          masks purrr::invoke()\n",
      "x dplyr::lag()             masks stats::lag()\n",
      "x rlang::list_along()      masks purrr::list_along()\n",
      "x purrr::map()             masks maps::map()\n",
      "x rlang::modify()          masks purrr::modify()\n",
      "x lubridate::setdiff()     masks base::setdiff()\n",
      "x rlang::splice()          masks purrr::splice()\n",
      "x rlang::unbox()           masks jsonlite::unbox()\n",
      "x lubridate::union()       masks base::union()\n",
      "\n",
      "Attaching package: 'zoo'\n",
      "\n",
      "The following objects are masked from 'package:base':\n",
      "\n",
      "    as.Date, as.Date.numeric\n",
      "\n"
     ]
    }
   ],
   "source": [
    "#setwd(\"~/opp/lib\")\n",
    "source('../lib/opp.R')\n",
    "source('../lib/threshold_test.R')\n",
    "source('../lib/disparity.R')"
   ]
  },
  {
   "cell_type": "code",
   "execution_count": 3,
   "metadata": {},
   "outputs": [
    {
     "name": "stderr",
     "output_type": "stream",
     "text": [
      "Parsed with column specification:\n",
      "cols(\n",
      "  .default = col_integer(),\n",
      "  `Agency ORI` = col_character(),\n",
      "  `Transaction Type` = col_character(),\n",
      "  NFIA = col_character(),\n",
      "  `Date of Stop` = col_character(),\n",
      "  `Time of Stop` = col_time(format = \"\"),\n",
      "  `Response to Call for Service` = col_character(),\n",
      "  Location = col_character(),\n",
      "  City = col_character(),\n",
      "  `K12 School Code` = col_character(),\n",
      "  Race = col_character(),\n",
      "  `Is LGBT` = col_character(),\n",
      "  `Person had Limited or No English Fluency` = col_character(),\n",
      "  `Perceived or Known Disability` = col_number(),\n",
      "  `If K-12 School Is Stop of a Student` = col_character(),\n",
      "  `Reason for Stop Narrative` = col_character(),\n",
      "  `Education Code Section` = col_character(),\n",
      "  `Education Code Subdivision` = col_character(),\n",
      "  `Suspicion Sub-Type` = col_number(),\n",
      "  `Actions Taken` = col_character(),\n",
      "  Search = col_logical()\n",
      "  # ... with 3 more columns\n",
      ")\n",
      "See spec(...) for full column specifications.\n",
      "Warning message in rbind(names(probs), probs_f):\n",
      "\"number of columns of result is not a multiple of vector length (arg 1)\"Warning message:\n",
      "\"67797 parsing failures.\n",
      "row # A tibble: 5 x 5 col     row col              expected               actual file                     expected   <int> <chr>            <chr>                  <chr>  <chr>                    actual 1  1038 Race_Num         no trailing characters ,3     'RIPA_MASTER_July_April~ file 2  1039 Race_Num         no trailing characters ,5,7   'RIPA_MASTER_July_April~ row 3  1040 Race_Num         no trailing characters ,7     'RIPA_MASTER_July_April~ col 4  1234 Race_Num         no trailing characters ,3     'RIPA_MASTER_July_April~ expected 5  1327 Basis_for_Search no trailing characters ,10    'RIPA_MASTER_July_April~\n",
      "... ................. ... ............................................................................... ........ ............................................................................... ...... ............................................................................... .... ............................................................................... ... ............................................................................... ... ............................................................................... ........ ...............................................................................\n",
      "See problems(...) for more details.\n",
      "\"Parsed with column specification:\n",
      "cols(\n",
      "  `Stop Number` = col_integer(),\n",
      "  FRN = col_integer(),\n",
      "  `Sex Code` = col_character(),\n",
      "  `Descent Code` = col_character(),\n",
      "  `Descent Description` = col_character(),\n",
      "  `Stop Date` = col_character(),\n",
      "  `Stop Time` = col_time(format = \"\"),\n",
      "  `Officer 1 Serial Number` = col_integer(),\n",
      "  `Officer 1 Division Number` = col_integer(),\n",
      "  `Division Description 1` = col_character(),\n",
      "  `Officer 2 Serial Number` = col_integer(),\n",
      "  `Officer 2 Division Number` = col_integer(),\n",
      "  `Division Description 2` = col_character(),\n",
      "  `Reporting District` = col_integer(),\n",
      "  `Stop Type` = col_character(),\n",
      "  `Post Stop Activity Indicator` = col_character()\n",
      ")\n",
      "Warning message in rbind(names(probs), probs_f):\n",
      "\"number of columns of result is not a multiple of vector length (arg 1)\"Warning message:\n",
      "\"25170 parsing failures.\n",
      "row # A tibble: 5 x 5 col     row col                       expected   actual file                        expected   <int> <chr>                     <chr>      <chr>  <chr>                       actual 1 29518 Officer 1 Division Number an integer B1     'LAPD_online_data_since_Ju~ file 2 29518 Officer 2 Division Number an integer B1     'LAPD_online_data_since_Ju~ row 3 29519 Officer 1 Division Number an integer B1     'LAPD_online_data_since_Ju~ col 4 29519 Officer 2 Division Number an integer B1     'LAPD_online_data_since_Ju~ expected 5 29520 Officer 1 Division Number an integer B1     'LAPD_online_data_since_Ju~\n",
      "... ................. ... ............................................................................... ........ ............................................................................... ...... ............................................................................... .... ............................................................................... ... ............................................................................... ... ............................................................................... ........ ...............................................................................\n",
      "See problems(...) for more details.\n",
      "\""
     ]
    }
   ],
   "source": [
    "# LOAD DATA\n",
    "ripa <- read_csv(\"RIPA_MASTER_July_April.csv\")\n",
    "colnames(ripa) <- make_ergonomic(colnames(ripa))\n",
    "lapd <- read_csv(\"LAPD_online_data_since_July_2018.csv\")\n",
    "colnames(lapd) <- make_ergonomic(colnames(lapd))"
   ]
  },
  {
   "cell_type": "code",
   "execution_count": 4,
   "metadata": {},
   "outputs": [],
   "source": [
    "# Get table of just vehicle stops and divisions\n",
    "veh_frns <- lapd %>% \n",
    "  filter(stop_type == \"VEH\") %>%\n",
    "  mutate(division = if_else(\n",
    "    officer_1_division_number > 0 & officer_1_division_number <= 27,\n",
    "    division_description_1,\n",
    "    \"OTHER\")\n",
    "  ) %>% \n",
    "  select(frn, division, division_description_1, officer_1_division_number) %>% \n",
    "  unique()\n",
    "\n",
    "tr_race <- c(\n",
    "  Latino = \"hispanic\",\n",
    "  Black = \"black\",\n",
    "  White = \"white\",\n",
    "  Asian = \"other\",\n",
    "  MiddleEastSouthAsian = \"other\",\n",
    "  multiracial = \"other\",\n",
    "  `Pacific Islander` = \"other\",\n",
    "  `Native American` = \"other\"\n",
    ")"
   ]
  },
  {
   "cell_type": "code",
   "execution_count": 5,
   "metadata": {},
   "outputs": [],
   "source": [
    "# Get RIPA vehicle stops\n",
    "ripa_veh <- ripa %>% \n",
    "  select(frn, race, search, basis_for_search, contraband) %>% \n",
    "  filter(frn %in% veh_frns$frn) %>% \n",
    "  left_join(veh_frns, by = \"frn\") %>% \n",
    "  mutate(\n",
    "    search_conducted = search == \"TRUE\", \n",
    "    # Non-discretionary searches:\n",
    "    # 4 = probation/parole, 10 = incident to arrest, \n",
    "    # 12 = vehicle inventory (impound?)\n",
    "    non_discretionary_search = basis_for_search %in% c(4, 10, 12),\n",
    "    contraband_found = contraband == \"TRUE\",\n",
    "    contraband_found = if_else(!search_conducted, FALSE, contraband_found),\n",
    "    subject_race = as.factor(tr_race[race]),\n",
    "    sub_geography = division,\n",
    "    geography = \"LA\"\n",
    "  ) "
   ]
  },
  {
   "cell_type": "code",
   "execution_count": 6,
   "metadata": {},
   "outputs": [
    {
     "name": "stderr",
     "output_type": "stream",
     "text": [
      "Warning message:\n",
      "\"2.33% of data was null for required columns and removed\"Warning message in metadata[\"stan_warnings\"] <- summary(warnings()):\n",
      "\"number of items to replace is not a multiple of replacement length\"Warning message:\n",
      "\"2.38% of data was null for required columns and removed\"recompiling to avoid crashing R session\n",
      "Warning message in metadata[\"stan_warnings\"] <- summary(warnings()):\n",
      "\"number of items to replace is not a multiple of replacement length\""
     ]
    }
   ],
   "source": [
    "# Run threshold test\n",
    "tt_results_all_searches <- threshold_test(\n",
    "  ripa_veh,\n",
    "  sub_geography,\n",
    "  geography_col = geography\n",
    ")\n",
    "\n",
    "tt_results_discretionary_searches <- threshold_test(\n",
    "  ripa_veh %>% filter(!non_discretionary_search),\n",
    "  sub_geography,\n",
    "  geography_col = geography\n",
    ")"
   ]
  },
  {
   "cell_type": "code",
   "execution_count": 47,
   "metadata": {},
   "outputs": [
    {
     "data": {
      "text/html": [
       "<table>\n",
       "<thead><tr><th scope=col>race</th><th scope=col>avg_threshold</th><th scope=col>threshold_ci</th><th scope=col>threshold_diff</th><th scope=col>diff_ci</th></tr></thead>\n",
       "<tbody>\n",
       "\t<tr><td>black           </td><td>15.92%          </td><td>(15.35%, 16.50%)</td><td>-2.05%          </td><td>(-3.50%, -0.59%)</td></tr>\n",
       "\t<tr><td>hispanic        </td><td>15.39%          </td><td>(14.86%, 15.92%)</td><td>-2.58%          </td><td>(-4.02%, -1.19%)</td></tr>\n",
       "\t<tr><td>other           </td><td>15.00%          </td><td>(13.47%, 16.60%)</td><td>-2.96%          </td><td>(-5.01%, -0.90%)</td></tr>\n",
       "\t<tr><td>white           </td><td>17.97%          </td><td>(16.66%, 19.31%)</td><td>                </td><td>                </td></tr>\n",
       "</tbody>\n",
       "</table>\n"
      ],
      "text/latex": [
       "\\begin{tabular}{r|lllll}\n",
       " race & avg\\_threshold & threshold\\_ci & threshold\\_diff & diff\\_ci\\\\\n",
       "\\hline\n",
       "\t black                & 15.92\\%             & (15.35\\%, 16.50\\%) & -2.05\\%             & (-3.50\\%, -0.59\\%)\\\\\n",
       "\t hispanic             & 15.39\\%             & (14.86\\%, 15.92\\%) & -2.58\\%             & (-4.02\\%, -1.19\\%)\\\\\n",
       "\t other                & 15.00\\%             & (13.47\\%, 16.60\\%) & -2.96\\%             & (-5.01\\%, -0.90\\%)\\\\\n",
       "\t white                & 17.97\\%             & (16.66\\%, 19.31\\%) &                      &                     \\\\\n",
       "\\end{tabular}\n"
      ],
      "text/markdown": [
       "\n",
       "race | avg_threshold | threshold_ci | threshold_diff | diff_ci | \n",
       "|---|---|---|---|\n",
       "| black            | 15.92%           | (15.35%, 16.50%) | -2.05%           | (-3.50%, -0.59%) | \n",
       "| hispanic         | 15.39%           | (14.86%, 15.92%) | -2.58%           | (-4.02%, -1.19%) | \n",
       "| other            | 15.00%           | (13.47%, 16.60%) | -2.96%           | (-5.01%, -0.90%) | \n",
       "| white            | 17.97%           | (16.66%, 19.31%) |                  |                  | \n",
       "\n",
       "\n"
      ],
      "text/plain": [
       "  race     avg_threshold threshold_ci     threshold_diff diff_ci         \n",
       "1 black    15.92%        (15.35%, 16.50%) -2.05%         (-3.50%, -0.59%)\n",
       "2 hispanic 15.39%        (14.86%, 15.92%) -2.58%         (-4.02%, -1.19%)\n",
       "3 other    15.00%        (13.47%, 16.60%) -2.96%         (-5.01%, -0.90%)\n",
       "4 white    17.97%        (16.66%, 19.31%)                                "
      ]
     },
     "metadata": {},
     "output_type": "display_data"
    },
    {
     "data": {
      "text/html": [
       "<table>\n",
       "<thead><tr><th scope=col>race</th><th scope=col>avg_threshold</th><th scope=col>threshold_ci</th><th scope=col>threshold_diff</th><th scope=col>diff_ci</th></tr></thead>\n",
       "<tbody>\n",
       "\t<tr><td>black           </td><td>18.59%          </td><td>(17.71%, 19.44%)</td><td>-4.30%          </td><td>(-6.77%, -2.01%)</td></tr>\n",
       "\t<tr><td>hispanic        </td><td>18.42%          </td><td>(17.65%, 19.22%)</td><td>-4.47%          </td><td>(-6.90%, -2.25%)</td></tr>\n",
       "\t<tr><td>other           </td><td>19.12%          </td><td>(16.90%, 21.59%)</td><td>-3.77%          </td><td>(-6.98%, -0.52%)</td></tr>\n",
       "\t<tr><td>white           </td><td>22.89%          </td><td>(20.81%, 25.22%)</td><td>                </td><td>                </td></tr>\n",
       "</tbody>\n",
       "</table>\n"
      ],
      "text/latex": [
       "\\begin{tabular}{r|lllll}\n",
       " race & avg\\_threshold & threshold\\_ci & threshold\\_diff & diff\\_ci\\\\\n",
       "\\hline\n",
       "\t black                & 18.59\\%             & (17.71\\%, 19.44\\%) & -4.30\\%             & (-6.77\\%, -2.01\\%)\\\\\n",
       "\t hispanic             & 18.42\\%             & (17.65\\%, 19.22\\%) & -4.47\\%             & (-6.90\\%, -2.25\\%)\\\\\n",
       "\t other                & 19.12\\%             & (16.90\\%, 21.59\\%) & -3.77\\%             & (-6.98\\%, -0.52\\%)\\\\\n",
       "\t white                & 22.89\\%             & (20.81\\%, 25.22\\%) &                      &                     \\\\\n",
       "\\end{tabular}\n"
      ],
      "text/markdown": [
       "\n",
       "race | avg_threshold | threshold_ci | threshold_diff | diff_ci | \n",
       "|---|---|---|---|\n",
       "| black            | 18.59%           | (17.71%, 19.44%) | -4.30%           | (-6.77%, -2.01%) | \n",
       "| hispanic         | 18.42%           | (17.65%, 19.22%) | -4.47%           | (-6.90%, -2.25%) | \n",
       "| other            | 19.12%           | (16.90%, 21.59%) | -3.77%           | (-6.98%, -0.52%) | \n",
       "| white            | 22.89%           | (20.81%, 25.22%) |                  |                  | \n",
       "\n",
       "\n"
      ],
      "text/plain": [
       "  race     avg_threshold threshold_ci     threshold_diff diff_ci         \n",
       "1 black    18.59%        (17.71%, 19.44%) -4.30%         (-6.77%, -2.01%)\n",
       "2 hispanic 18.42%        (17.65%, 19.22%) -4.47%         (-6.90%, -2.25%)\n",
       "3 other    19.12%        (16.90%, 21.59%) -3.77%         (-6.98%, -0.52%)\n",
       "4 white    22.89%        (20.81%, 25.22%)                                "
      ]
     },
     "metadata": {},
     "output_type": "display_data"
    }
   ],
   "source": [
    "#tt_results_all_searches$results$aggregate_thresholds\n",
    "#tt_results_discretionary_searches$results$aggregate_thresholds"
   ]
  },
  {
   "cell_type": "code",
   "execution_count": 7,
   "metadata": {},
   "outputs": [
    {
     "name": "stdout",
     "output_type": "stream",
     "text": [
      "[1] \"max Rhat\"\n",
      "[1] 1.005374\n",
      "[1] \"min n_eff\"\n",
      "numeric(0)\n",
      "[1] \"Weighted RMS prediction error: 0.04%\"\n",
      "[1] \"Weighted RMS prediction error: 4.99%\"\n",
      "[1] \"max Rhat\"\n",
      "[1] 1.003136\n",
      "[1] \"min n_eff\"\n",
      "numeric(0)\n",
      "[1] \"Weighted RMS prediction error: 0.04%\"\n",
      "[1] \"Weighted RMS prediction error: 6.26%\"\n"
     ]
    },
    {
     "data": {
      "text/html": [
       "<table>\n",
       "<thead><tr><th scope=col>race</th><th scope=col>avg_threshold</th><th scope=col>threshold_ci</th><th scope=col>threshold_diff</th><th scope=col>diff_ci</th></tr></thead>\n",
       "<tbody>\n",
       "\t<tr><td>black           </td><td>15.91%          </td><td>(15.34%, 16.50%)</td><td>-2.06%          </td><td>(-3.52%, -0.65%)</td></tr>\n",
       "\t<tr><td>hispanic        </td><td>15.38%          </td><td>(14.86%, 15.93%)</td><td>-2.58%          </td><td>(-4.00%, -1.19%)</td></tr>\n",
       "\t<tr><td>other           </td><td>15.00%          </td><td>(13.45%, 16.60%)</td><td>-2.97%          </td><td>(-5.05%, -0.91%)</td></tr>\n",
       "\t<tr><td>white           </td><td>17.97%          </td><td>(16.69%, 19.31%)</td><td>                </td><td>                </td></tr>\n",
       "</tbody>\n",
       "</table>\n"
      ],
      "text/latex": [
       "\\begin{tabular}{r|lllll}\n",
       " race & avg\\_threshold & threshold\\_ci & threshold\\_diff & diff\\_ci\\\\\n",
       "\\hline\n",
       "\t black                & 15.91\\%             & (15.34\\%, 16.50\\%) & -2.06\\%             & (-3.52\\%, -0.65\\%)\\\\\n",
       "\t hispanic             & 15.38\\%             & (14.86\\%, 15.93\\%) & -2.58\\%             & (-4.00\\%, -1.19\\%)\\\\\n",
       "\t other                & 15.00\\%             & (13.45\\%, 16.60\\%) & -2.97\\%             & (-5.05\\%, -0.91\\%)\\\\\n",
       "\t white                & 17.97\\%             & (16.69\\%, 19.31\\%) &                      &                     \\\\\n",
       "\\end{tabular}\n"
      ],
      "text/markdown": [
       "\n",
       "race | avg_threshold | threshold_ci | threshold_diff | diff_ci | \n",
       "|---|---|---|---|\n",
       "| black            | 15.91%           | (15.34%, 16.50%) | -2.06%           | (-3.52%, -0.65%) | \n",
       "| hispanic         | 15.38%           | (14.86%, 15.93%) | -2.58%           | (-4.00%, -1.19%) | \n",
       "| other            | 15.00%           | (13.45%, 16.60%) | -2.97%           | (-5.05%, -0.91%) | \n",
       "| white            | 17.97%           | (16.69%, 19.31%) |                  |                  | \n",
       "\n",
       "\n"
      ],
      "text/plain": [
       "  race     avg_threshold threshold_ci     threshold_diff diff_ci         \n",
       "1 black    15.91%        (15.34%, 16.50%) -2.06%         (-3.52%, -0.65%)\n",
       "2 hispanic 15.38%        (14.86%, 15.93%) -2.58%         (-4.00%, -1.19%)\n",
       "3 other    15.00%        (13.45%, 16.60%) -2.97%         (-5.05%, -0.91%)\n",
       "4 white    17.97%        (16.69%, 19.31%)                                "
      ]
     },
     "metadata": {},
     "output_type": "display_data"
    },
    {
     "data": {
      "text/html": [
       "<table>\n",
       "<thead><tr><th scope=col>race</th><th scope=col>avg_threshold</th><th scope=col>threshold_ci</th><th scope=col>threshold_diff</th><th scope=col>diff_ci</th></tr></thead>\n",
       "<tbody>\n",
       "\t<tr><td>black           </td><td>18.59%          </td><td>(17.74%, 19.45%)</td><td>-4.29%          </td><td>(-6.75%, -1.98%)</td></tr>\n",
       "\t<tr><td>hispanic        </td><td>18.42%          </td><td>(17.64%, 19.23%)</td><td>-4.46%          </td><td>(-6.89%, -2.20%)</td></tr>\n",
       "\t<tr><td>other           </td><td>19.12%          </td><td>(16.83%, 21.65%)</td><td>-3.76%          </td><td>(-7.02%, -0.50%)</td></tr>\n",
       "\t<tr><td>white           </td><td>22.88%          </td><td>(20.76%, 25.19%)</td><td>                </td><td>                </td></tr>\n",
       "</tbody>\n",
       "</table>\n"
      ],
      "text/latex": [
       "\\begin{tabular}{r|lllll}\n",
       " race & avg\\_threshold & threshold\\_ci & threshold\\_diff & diff\\_ci\\\\\n",
       "\\hline\n",
       "\t black                & 18.59\\%             & (17.74\\%, 19.45\\%) & -4.29\\%             & (-6.75\\%, -1.98\\%)\\\\\n",
       "\t hispanic             & 18.42\\%             & (17.64\\%, 19.23\\%) & -4.46\\%             & (-6.89\\%, -2.20\\%)\\\\\n",
       "\t other                & 19.12\\%             & (16.83\\%, 21.65\\%) & -3.76\\%             & (-7.02\\%, -0.50\\%)\\\\\n",
       "\t white                & 22.88\\%             & (20.76\\%, 25.19\\%) &                      &                     \\\\\n",
       "\\end{tabular}\n"
      ],
      "text/markdown": [
       "\n",
       "race | avg_threshold | threshold_ci | threshold_diff | diff_ci | \n",
       "|---|---|---|---|\n",
       "| black            | 18.59%           | (17.74%, 19.45%) | -4.29%           | (-6.75%, -1.98%) | \n",
       "| hispanic         | 18.42%           | (17.64%, 19.23%) | -4.46%           | (-6.89%, -2.20%) | \n",
       "| other            | 19.12%           | (16.83%, 21.65%) | -3.76%           | (-7.02%, -0.50%) | \n",
       "| white            | 22.88%           | (20.76%, 25.19%) |                  |                  | \n",
       "\n",
       "\n"
      ],
      "text/plain": [
       "  race     avg_threshold threshold_ci     threshold_diff diff_ci         \n",
       "1 black    18.59%        (17.74%, 19.45%) -4.29%         (-6.75%, -1.98%)\n",
       "2 hispanic 18.42%        (17.64%, 19.23%) -4.46%         (-6.89%, -2.20%)\n",
       "3 other    19.12%        (16.83%, 21.65%) -3.76%         (-7.02%, -0.50%)\n",
       "4 white    22.88%        (20.76%, 25.19%)                                "
      ]
     },
     "metadata": {},
     "output_type": "display_data"
    }
   ],
   "source": [
    "# Function wrapper for convergence checks and ppcs\n",
    "model_checks <- function(model_result) {\n",
    "  fit <- model_result$metadata$fit\n",
    "  summary <- summary(fit)$summary\n",
    "  # Want this to be < 1.05\n",
    "  print(\"max Rhat\")\n",
    "  print(summary[,'Rhat'] %>% max(na.rm = T))\n",
    "  # Want this to be > 0.001\n",
    "  print(\"min n_eff\")\n",
    "  print(summary[,'n_eff'] %>% min(na.rm = T) / nrow(tbl))\n",
    "\n",
    "  search_rate_ppc <- plt_ppc_rates(\n",
    "    model_result$results$thresholds,\n",
    "    rstan::extract(model_result$metadata$fit),\n",
    "    \"search_rate\", \n",
    "    numerator_col = n_action,\n",
    "    denominator_col = n,\n",
    "    title = str_c(\"LA threshold ppc - search rates\")\n",
    "  )\n",
    "  \n",
    "  hit_rate_ppc <- plt_ppc_rates(\n",
    "    model_result$results$thresholds,\n",
    "    rstan::extract(model_result$metadata$fit),\n",
    "    \"hit_rate\", \n",
    "    numerator_col = n_outcome,\n",
    "    denominator_col = n_action,\n",
    "    title = str_c(\"LA threshold ppc - hit rates\")\n",
    "  )\n",
    "  \n",
    "  list(\n",
    "    search_rate_ppc = search_rate_ppc,\n",
    "    hit_rate_ppc = hit_rate_ppc\n",
    "  )\n",
    "}\n",
    "\n",
    "all_search_checks <- model_checks(tt_results_all_searches)\n",
    "non_disc_search_checks <- model_checks(tt_results_discretionary_searches)\n",
    "\n",
    "tt_results_all_searches$results$aggregate_thresholds\n",
    "tt_results_discretionary_searches$results$aggregate_thresholds"
   ]
  },
  {
   "cell_type": "code",
   "execution_count": null,
   "metadata": {},
   "outputs": [],
   "source": []
  },
  {
   "cell_type": "code",
   "execution_count": null,
   "metadata": {},
   "outputs": [],
   "source": []
  },
  {
   "cell_type": "code",
   "execution_count": null,
   "metadata": {},
   "outputs": [],
   "source": []
  },
  {
   "cell_type": "markdown",
   "metadata": {},
   "source": [
    "# Previous Ryan + Ben Code"
   ]
  },
  {
   "cell_type": "code",
   "execution_count": null,
   "metadata": {},
   "outputs": [],
   "source": [
    "exclude_probation = read_csv('ripa_tt_data_5_15_2019_No_Probation_Parole_Exclude_test.csv')"
   ]
  },
  {
   "cell_type": "code",
   "execution_count": 53,
   "metadata": {},
   "outputs": [],
   "source": [
    "source('../lib/opp.R')"
   ]
  },
  {
   "cell_type": "code",
   "execution_count": 3,
   "metadata": {},
   "outputs": [],
   "source": [
    "source('../lib/threshold_test.R')"
   ]
  },
  {
   "cell_type": "code",
   "execution_count": 30,
   "metadata": {},
   "outputs": [
    {
     "name": "stderr",
     "output_type": "stream",
     "text": [
      "Parsed with column specification:\n",
      "cols(\n",
      "  Race = col_character(),\n",
      "  Search = col_logical(),\n",
      "  Contraband = col_logical(),\n",
      "  Division = col_character(),\n",
      "  geography = col_character()\n",
      ")\n"
     ]
    }
   ],
   "source": [
    "exclude_probation = read_csv('ripa_tt_data_5_15_2019_No_Probation_Parole_Exclude_test.csv')"
   ]
  },
  {
   "cell_type": "code",
   "execution_count": 35,
   "metadata": {},
   "outputs": [],
   "source": [
    "names(exclude_probation) <- c('subject_race', 'search_conducted','contraband_found', 'division', 'geography')"
   ]
  },
  {
   "cell_type": "code",
   "execution_count": 36,
   "metadata": {},
   "outputs": [
    {
     "name": "stdout",
     "output_type": "stream",
     "text": [
      "Observations: 362,321\n",
      "Variables: 5\n",
      "$ subject_race     <chr> \"Asian\", \"Asian\", \"Asian\", \"Asian\", \"Asian\", \"Asia...\n",
      "$ search_conducted <lgl> FALSE, FALSE, FALSE, FALSE, FALSE, FALSE, FALSE, F...\n",
      "$ contraband_found <lgl> FALSE, FALSE, FALSE, FALSE, FALSE, FALSE, FALSE, F...\n",
      "$ division         <chr> \"blank\", \"blank\", \"blank\", \"blank\", \"blank\", \"blan...\n",
      "$ geography        <chr> \"Los Angeles\", \"Los Angeles\", \"Los Angeles\", \"Los ...\n"
     ]
    }
   ],
   "source": [
    "glimpse(exclude_probation)"
   ]
  },
  {
   "cell_type": "code",
   "execution_count": 20,
   "metadata": {
    "scrolled": true
   },
   "outputs": [],
   "source": [
    "#tt.exclude_probation4 <- threshold_test(exclude_probation4 %>% mutate(city ='Los Angeles'))"
   ]
  },
  {
   "cell_type": "code",
   "execution_count": 37,
   "metadata": {},
   "outputs": [],
   "source": [
    "#Get RIPA vehicle stops\n",
    "exclude_probation <- exclude_probation %>% mutate(sub_geography = division, geography = \"Los Angeles\") "
   ]
  },
  {
   "cell_type": "code",
   "execution_count": 39,
   "metadata": {},
   "outputs": [],
   "source": [
    "#tt.exclude_probation <- threshold_test(\n",
    " # exclude_probation,\n",
    "  #sub_geography,\n",
    "  #geography_col = geography\n",
    "#)"
   ]
  }
 ],
 "metadata": {
  "kernelspec": {
   "display_name": "R",
   "language": "R",
   "name": "ir"
  },
  "language_info": {
   "codemirror_mode": "r",
   "file_extension": ".r",
   "mimetype": "text/x-r-source",
   "name": "R",
   "pygments_lexer": "r",
   "version": "3.4.4"
  }
 },
 "nbformat": 4,
 "nbformat_minor": 2
}
