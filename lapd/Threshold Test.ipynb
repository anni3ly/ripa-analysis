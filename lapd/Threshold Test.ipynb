{
 "cells": [
  {
   "cell_type": "code",
   "execution_count": 1,
   "metadata": {},
   "outputs": [],
   "source": [
    "setwd(\"~/GitHub/ripa-analysis/lapd\")"
   ]
  },
  {
   "cell_type": "code",
   "execution_count": 2,
   "metadata": {},
   "outputs": [
    {
     "name": "stderr",
     "output_type": "stream",
     "text": [
      "here() starts at C:/Users/bposton/Documents/GitHub/ripa-analysis\n",
      "\n",
      "Attaching package: 'lubridate'\n",
      "\n",
      "The following object is masked from 'package:here':\n",
      "\n",
      "    here\n",
      "\n",
      "The following object is masked from 'package:base':\n",
      "\n",
      "    date\n",
      "\n",
      "\n",
      "Attaching package: 'purrr'\n",
      "\n",
      "The following object is masked from 'package:maps':\n",
      "\n",
      "    map\n",
      "\n",
      "The following object is masked from 'package:jsonlite':\n",
      "\n",
      "    flatten\n",
      "\n",
      "\n",
      "Attaching package: 'rlang'\n",
      "\n",
      "The following objects are masked from 'package:purrr':\n",
      "\n",
      "    %@%, as_function, flatten, flatten_chr, flatten_dbl, flatten_int,\n",
      "    flatten_lgl, flatten_raw, invoke, list_along, modify, prepend,\n",
      "    splice\n",
      "\n",
      "The following objects are masked from 'package:jsonlite':\n",
      "\n",
      "    flatten, unbox\n",
      "\n",
      "Loading required package: sp\n",
      "rgdal: version: 1.4-3, (SVN revision 828)\n",
      " Geospatial Data Abstraction Library extensions to R successfully loaded\n",
      " Loaded GDAL runtime: GDAL 2.2.3, released 2017/11/20\n",
      " Path to GDAL shared files: C:/Program Files/R/R-3.4.4/library/rgdal/gdal\n",
      " GDAL binary built with GEOS: TRUE \n",
      " Loaded PROJ.4 runtime: Rel. 4.9.3, 15 August 2016, [PJ_VERSION: 493]\n",
      " Path to PROJ.4 shared files: C:/Program Files/R/R-3.4.4/library/rgdal/proj\n",
      " Linking to sp version: 1.3-1 \n",
      "Loading required package: ggplot2\n",
      "Loading required package: StanHeaders\n",
      "rstan (Version 2.18.2, GitRev: 2e1f913d3ca3)\n",
      "For execution on a local, multicore CPU with excess RAM we recommend calling\n",
      "options(mc.cores = parallel::detectCores()).\n",
      "To avoid recompilation of unchanged Stan programs, we recommend calling\n",
      "rstan_options(auto_write = TRUE)\n",
      "For improved execution time, we recommend calling\n",
      "Sys.setenv(LOCAL_CPPFLAGS = '-march=native')\n",
      "although this causes Stan to throw an error on a few processors.\n",
      "\n",
      "Attaching package: 'scales'\n",
      "\n",
      "The following object is masked from 'package:purrr':\n",
      "\n",
      "    discard\n",
      "\n",
      "-- Attaching packages --------------------------------------- tidyverse 1.2.1 --\n",
      "v tibble  1.4.2     v dplyr   0.7.6\n",
      "v tidyr   0.8.1     v stringr 1.4.0\n",
      "v readr   1.1.1     v forcats 0.3.0\n",
      "-- Conflicts ------------------------------------------ tidyverse_conflicts() --\n",
      "x rlang::%@%()             masks purrr::%@%()\n",
      "x lubridate::as.difftime() masks base::as.difftime()\n",
      "x rlang::as_function()     masks purrr::as_function()\n",
      "x readr::col_factor()      masks scales::col_factor()\n",
      "x lubridate::date()        masks base::date()\n",
      "x scales::discard()        masks purrr::discard()\n",
      "x tidyr::extract()         masks rstan::extract()\n",
      "x dplyr::filter()          masks stats::filter()\n",
      "x rlang::flatten()         masks purrr::flatten(), jsonlite::flatten()\n",
      "x rlang::flatten_chr()     masks purrr::flatten_chr()\n",
      "x rlang::flatten_dbl()     masks purrr::flatten_dbl()\n",
      "x rlang::flatten_int()     masks purrr::flatten_int()\n",
      "x rlang::flatten_lgl()     masks purrr::flatten_lgl()\n",
      "x rlang::flatten_raw()     masks purrr::flatten_raw()\n",
      "x lubridate::here()        masks here::here()\n",
      "x lubridate::intersect()   masks base::intersect()\n",
      "x rlang::invoke()          masks purrr::invoke()\n",
      "x dplyr::lag()             masks stats::lag()\n",
      "x rlang::list_along()      masks purrr::list_along()\n",
      "x purrr::map()             masks maps::map()\n",
      "x rlang::modify()          masks purrr::modify()\n",
      "x lubridate::setdiff()     masks base::setdiff()\n",
      "x rlang::splice()          masks purrr::splice()\n",
      "x rlang::unbox()           masks jsonlite::unbox()\n",
      "x lubridate::union()       masks base::union()\n",
      "\n",
      "Attaching package: 'zoo'\n",
      "\n",
      "The following objects are masked from 'package:base':\n",
      "\n",
      "    as.Date, as.Date.numeric\n",
      "\n"
     ]
    }
   ],
   "source": [
    "source('../lib/opp.R')"
   ]
  },
  {
   "cell_type": "code",
   "execution_count": 3,
   "metadata": {},
   "outputs": [],
   "source": [
    "source('../lib/threshold_test.R')"
   ]
  },
  {
   "cell_type": "code",
   "execution_count": 7,
   "metadata": {},
   "outputs": [
    {
     "name": "stderr",
     "output_type": "stream",
     "text": [
      "Parsed with column specification:\n",
      "cols(\n",
      "  Race = col_character(),\n",
      "  Search = col_logical(),\n",
      "  Contraband = col_logical(),\n",
      "  Division = col_character()\n",
      ")\n"
     ]
    }
   ],
   "source": [
    "exclude_probation3 = read_csv('ripa_tt_data_5_15_2019_No_Probation_Parole_Exclude_other.csv')"
   ]
  },
  {
   "cell_type": "code",
   "execution_count": 8,
   "metadata": {},
   "outputs": [],
   "source": [
    "names(exclude_probation3) <- c('subject_race', 'search_conducted','contraband_found', 'precinct')"
   ]
  },
  {
   "cell_type": "code",
   "execution_count": 9,
   "metadata": {},
   "outputs": [
    {
     "name": "stdout",
     "output_type": "stream",
     "text": [
      "Observations: 362,321\n",
      "Variables: 4\n",
      "$ subject_race     <chr> \"Asian\", \"Asian\", \"Asian\", \"Asian\", \"Asian\", \"Asia...\n",
      "$ search_conducted <lgl> FALSE, FALSE, FALSE, FALSE, FALSE, FALSE, FALSE, F...\n",
      "$ contraband_found <lgl> FALSE, FALSE, FALSE, FALSE, FALSE, FALSE, FALSE, F...\n",
      "$ precinct         <chr> \"blank\", \"blank\", \"blank\", \"blank\", \"blank\", \"blan...\n"
     ]
    }
   ],
   "source": [
    "glimpse(exclude_probation3)"
   ]
  },
  {
   "cell_type": "code",
   "execution_count": 10,
   "metadata": {
    "scrolled": true
   },
   "outputs": [
    {
     "name": "stderr",
     "output_type": "stream",
     "text": [
      "Warning message:\n",
      "\"There were 14 divergent transitions after warmup. Increasing adapt_delta above 0.95 may help. See\n",
      "http://mc-stan.org/misc/warnings.html#divergent-transitions-after-warmup\"Warning message:\n",
      "\"There were 2609 transitions after warmup that exceeded the maximum treedepth. Increase max_treedepth above 12. See\n",
      "http://mc-stan.org/misc/warnings.html#maximum-treedepth-exceeded\"Warning message:\n",
      "\"Examine the pairs() plot to diagnose sampling problems\n",
      "\"Warning message in metadata[\"stan_warnings\"] <- summary(warnings()):\n",
      "\"number of items to replace is not a multiple of replacement length\""
     ]
    },
    {
     "ename": "ERROR",
     "evalue": "Error in avg_thresh[-majority_idx, ] - matrix(rep(avg_thresh[majority_idx, : non-conformable arrays\n",
     "output_type": "error",
     "traceback": [
      "Error in avg_thresh[-majority_idx, ] - matrix(rep(avg_thresh[majority_idx, : non-conformable arrays\nTraceback:\n",
      "1. threshold_test(exclude_probation3 %>% mutate(city = \"Los Angeles\"))",
      "2. collect_average_threshold_test_summary_stats(data_summary, posteriors, \n .     !(!demographic_colq), majority_demographic)",
      "3. format_summary_stats(thresholds, avg_thresh, !(!demographic_colq), \n .     majority_demographic)"
     ]
    }
   ],
   "source": [
    "tt.exclude_probation3 <- threshold_test(exclude_probation3 %>% mutate(city ='Los Angeles'))"
   ]
  },
  {
   "cell_type": "code",
   "execution_count": 14,
   "metadata": {},
   "outputs": [],
   "source": [
    "write_csv(tt.exclude_probation1$results$aggregate_thresholds, 'lapd_threshold_agg_results_exclude_probation_5_15_19.csv')"
   ]
  },
  {
   "cell_type": "code",
   "execution_count": null,
   "metadata": {},
   "outputs": [],
   "source": []
  },
  {
   "cell_type": "code",
   "execution_count": null,
   "metadata": {},
   "outputs": [],
   "source": [
    "# Testing on OPP San Jose data\n",
    "\n",
    "# jose = read_csv('../tr137st9964_ca_san_jose_2019_02_25.csv/share/data/opp-for-archive/ca_san_jose_2019_02_25.csv')\n",
    "\n",
    "#head(jose)\n",
    "\n",
    "## This works\n",
    "\n",
    "# tt <- threshold_test(jose %>% mutate(city='San Jose'))\n",
    "\n",
    "## This gets the thresholds\n",
    "# tt$results$aggregate_thresholds\n",
    "\n",
    "\n",
    "# Now back to our LAPD data\n",
    "\n",
    "# tweak the function so it doesn't create summary_stats"
   ]
  }
 ],
 "metadata": {
  "kernelspec": {
   "display_name": "R",
   "language": "R",
   "name": "ir"
  },
  "language_info": {
   "codemirror_mode": "r",
   "file_extension": ".r",
   "mimetype": "text/x-r-source",
   "name": "R",
   "pygments_lexer": "r",
   "version": "3.4.4"
  }
 },
 "nbformat": 4,
 "nbformat_minor": 2
}
