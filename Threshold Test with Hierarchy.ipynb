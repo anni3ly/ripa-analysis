{
 "cells": [
  {
   "cell_type": "code",
   "execution_count": 1,
   "metadata": {},
   "outputs": [],
   "source": [
    "setwd(\"~/GitHub/ripa-analysis/data\")"
   ]
  },
  {
   "cell_type": "code",
   "execution_count": 9,
   "metadata": {},
   "outputs": [],
   "source": [
    "source('../lib/opp.R')\n",
    "source('../lib/threshold_test.R')\n",
    "source('../lib/disparity.R')"
   ]
  },
  {
   "cell_type": "markdown",
   "metadata": {},
   "source": [
    "Two data files are imported here. The first one is the detailed data collected by LAPD to comply with the state Racial Identity and Profiling Act. \n",
    "\n",
    "The second is a data set -- available on the city's data portal -- includes information on the division of the responding officer. The Threshold Test requires a subgeography like a police division to be able to identify differences in search thresholds across an entire city."
   ]
  },
  {
   "cell_type": "code",
   "execution_count": 3,
   "metadata": {},
   "outputs": [],
   "source": [
    "# Download large dataset from Dropbox\n",
    "download.file(\n",
    "    'https://www.dropbox.com/s/fdpk89gap9mc7ow/RIPA_MASTER_July_April.csv?dl=1', \n",
    "    destfile=\"RIPA_MASTER_July_April.csv\")"
   ]
  },
  {
   "cell_type": "code",
   "execution_count": 10,
   "metadata": {},
   "outputs": [],
   "source": [
    "# Load Data\n",
    "ripa <- read_csv(\"RIPA_MASTER_July_April.csv\",\n",
    "col_types = cols(Basis_for_Search = \"c\"))\n",
    "colnames(ripa) <- make_ergonomic(colnames(ripa))\n",
    "lapd <- read_csv(\"LAPD_online_data_since_July_2018.csv\")\n",
    "colnames(lapd) <- make_ergonomic(colnames(lapd))"
   ]
  },
  {
   "cell_type": "markdown",
   "metadata": {},
   "source": [
    "To reduce statistical noise, the racial and ethnic groups were categorized into Latino, black, white and \"other,\" which included Asian, Middle Eastern/South Asian, multiracial, Pacific Islander and Native American."
   ]
  },
  {
   "cell_type": "code",
   "execution_count": 6,
   "metadata": {},
   "outputs": [],
   "source": [
    "# Filter table to just vehicle stops and divisions\n",
    "veh_frns <- lapd %>% \n",
    "  filter(stop_type == \"VEH\") %>%\n",
    "  mutate(division = if_else(\n",
    "    officer_1_division_number > 0 & officer_1_division_number <= 27,\n",
    "    division_description_1,\n",
    "    \"OTHER\")\n",
    "  ) %>% \n",
    "  select(frn, division, division_description_1, officer_1_division_number) %>% \n",
    "  unique()\n",
    "\n",
    "# The model groups the racial categories into Hispanic, black, white and other\n",
    "tr_race <- c(\n",
    "  Latino = \"hispanic\",\n",
    "  Black = \"black\",\n",
    "  White = \"white\",\n",
    "  Asian = \"other\",\n",
    "  MiddleEastSouthAsian = \"other\",\n",
    "  multiracial = \"other\",\n",
    "  `Pacific Islander` = \"other\",\n",
    "  `Native American` = \"other\"\n",
    ")"
   ]
  },
  {
   "cell_type": "markdown",
   "metadata": {},
   "source": [
    "This next step joins the two data sets on a unique identifier, \"frn,\" which stands for form reference number. It also creates a hierarchy to flag searches as discretionary or non-discretionary. The filter excludes stops where non-discretionary searches were the primary reason for the police action and categorizes those with multiple reasons for a search. So if a stop included both a consent search and a vehicle inventory search it was included in the analysis because a consent search is considered discretionary and given a higher rank in the hierarchy model."
   ]
  },
  {
   "cell_type": "code",
   "execution_count": 7,
   "metadata": {},
   "outputs": [],
   "source": [
    "# Create discretionary search heirarchy \n",
    "ripa_veh <- ripa %>% \n",
    "  select(frn, race, search, basis_for_search, contraband) %>% \n",
    "  filter(frn %in% veh_frns$frn) %>% \n",
    "  left_join(veh_frns, by = \"frn\") %>% \n",
    "  mutate(\n",
    "    search_conducted = search == \"TRUE\", \n",
    "    basis_for_search_single = case_when(\n",
    "      # Plain view (visible contraband) = 6\n",
    "      str_detect(basis_for_search, \"6\") ~ 6,\n",
    "      # Plain smell (odor of contraband) = 7\n",
    "      str_detect(basis_for_search, \"7\") ~ 7,\n",
    "      # Consent = 1\n",
    "      str_detect(basis_for_search, \"(^1$)|(^1,)|(,1,)|(,1$)\") ~ 1,\n",
    "      # Safety = 2\n",
    "      str_detect(basis_for_search, \"(^2$)|(^2,)|(,2,)|(,2$)\") ~ 2,\n",
    "      # Suspected weapon = 5\n",
    "      str_detect(basis_for_search, \"5\") ~ 5,\n",
    "      # Evidence of crime = 9\n",
    "      str_detect(basis_for_search, \"9\") ~ 9,\n",
    "      # Suspected violation of school policy = 13\n",
    "      str_detect(basis_for_search, \"13\") ~ 13,\n",
    "      # Exigent circumstances/emergency = 11\n",
    "      str_detect(basis_for_search, \"11\") ~ 11,\n",
    "      # K9 detection = 8\n",
    "      str_detect(basis_for_search, \"8\") ~ 8,\n",
    "      # Warrant = 3\n",
    "      str_detect(basis_for_search, \"(^3$)|(^3,)|(,3,)|(,3$)\") ~ 3,\n",
    "      # Probation/parole = 4\n",
    "      str_detect(basis_for_search, \"4\") ~ 4,\n",
    "      # Incident to arrest = 10\n",
    "      str_detect(basis_for_search, \"10\") ~ 10,\n",
    "      # Vehicle inventory = 12\n",
    "      str_detect(basis_for_search, \"12\") ~ 12,\n",
    "      TRUE ~ NA_real_\n",
    "    ),\n",
    "    # Non-discretionary searches:\n",
    "    # 3 = warrant, 4 = as condition of probation/parole, 10 = incident to arrest, 12 = vehicle inventory)\n",
    "    non_discretionary_search = basis_for_search_single %in% c(3, 4, 10, 12),\n",
    "    contraband_found = contraband == \"TRUE\",\n",
    "    contraband_found = if_else(!search_conducted, FALSE, contraband_found),\n",
    "    subject_race = as.factor(tr_race[race]),\n",
    "    sub_geography = division,\n",
    "    geography = \"LA\"\n",
    "  ) "
   ]
  },
  {
   "cell_type": "markdown",
   "metadata": {},
   "source": [
    "Now we'll run  two threshold tests -- one for all searches and another for our discretionary search universe. This typically takes about 20 minutes to run. \n",
    "\n",
    "Grab a coffee!"
   ]
  },
  {
   "cell_type": "code",
   "execution_count": 8,
   "metadata": {},
   "outputs": [
    {
     "name": "stderr",
     "output_type": "stream",
     "text": [
      "Warning message:\n",
      "\"2.33% of data was null for required columns and removed\"Warning message in metadata[\"stan_warnings\"] <- summary(warnings()):\n",
      "\"number of items to replace is not a multiple of replacement length\"Warning message:\n",
      "\"2.38% of data was null for required columns and removed\"recompiling to avoid crashing R session\n",
      "Warning message in metadata[\"stan_warnings\"] <- summary(warnings()):\n",
      "\"number of items to replace is not a multiple of replacement length\""
     ]
    },
    {
     "name": "stdout",
     "output_type": "stream",
     "text": [
      "[1] \"max Rhat\"\n",
      "[1] 1.004415\n",
      "[1] \"min n_eff\"\n",
      "[1] 1400.747\n",
      "[1] \"Weighted RMS prediction error: 0.04%\"\n",
      "[1] \"Weighted RMS prediction error: 4.99%\"\n",
      "[1] \"max Rhat\"\n",
      "[1] 1.005524\n",
      "[1] \"min n_eff\"\n",
      "[1] 1211.272\n",
      "[1] \"Weighted RMS prediction error: 0.05%\"\n",
      "[1] \"Weighted RMS prediction error: 7.80%\"\n"
     ]
    },
    {
     "data": {
      "text/html": [
       "<table>\n",
       "<thead><tr><th scope=col>race</th><th scope=col>avg_threshold</th><th scope=col>threshold_ci</th><th scope=col>threshold_diff</th><th scope=col>diff_ci</th></tr></thead>\n",
       "<tbody>\n",
       "\t<tr><td>black           </td><td>15.91%          </td><td>(15.33%, 16.48%)</td><td>-2.05%          </td><td>(-3.50%, -0.64%)</td></tr>\n",
       "\t<tr><td>hispanic        </td><td>15.38%          </td><td>(14.85%, 15.93%)</td><td>-2.58%          </td><td>(-4.01%, -1.19%)</td></tr>\n",
       "\t<tr><td>other           </td><td>15.00%          </td><td>(13.48%, 16.61%)</td><td>-2.97%          </td><td>(-4.97%, -0.90%)</td></tr>\n",
       "\t<tr><td>white           </td><td>17.96%          </td><td>(16.68%, 19.28%)</td><td>                </td><td>                </td></tr>\n",
       "</tbody>\n",
       "</table>\n"
      ],
      "text/latex": [
       "\\begin{tabular}{r|lllll}\n",
       " race & avg\\_threshold & threshold\\_ci & threshold\\_diff & diff\\_ci\\\\\n",
       "\\hline\n",
       "\t black                & 15.91\\%             & (15.33\\%, 16.48\\%) & -2.05\\%             & (-3.50\\%, -0.64\\%)\\\\\n",
       "\t hispanic             & 15.38\\%             & (14.85\\%, 15.93\\%) & -2.58\\%             & (-4.01\\%, -1.19\\%)\\\\\n",
       "\t other                & 15.00\\%             & (13.48\\%, 16.61\\%) & -2.97\\%             & (-4.97\\%, -0.90\\%)\\\\\n",
       "\t white                & 17.96\\%             & (16.68\\%, 19.28\\%) &                      &                     \\\\\n",
       "\\end{tabular}\n"
      ],
      "text/markdown": [
       "\n",
       "race | avg_threshold | threshold_ci | threshold_diff | diff_ci | \n",
       "|---|---|---|---|\n",
       "| black            | 15.91%           | (15.33%, 16.48%) | -2.05%           | (-3.50%, -0.64%) | \n",
       "| hispanic         | 15.38%           | (14.85%, 15.93%) | -2.58%           | (-4.01%, -1.19%) | \n",
       "| other            | 15.00%           | (13.48%, 16.61%) | -2.97%           | (-4.97%, -0.90%) | \n",
       "| white            | 17.96%           | (16.68%, 19.28%) |                  |                  | \n",
       "\n",
       "\n"
      ],
      "text/plain": [
       "  race     avg_threshold threshold_ci     threshold_diff diff_ci         \n",
       "1 black    15.91%        (15.33%, 16.48%) -2.05%         (-3.50%, -0.64%)\n",
       "2 hispanic 15.38%        (14.85%, 15.93%) -2.58%         (-4.01%, -1.19%)\n",
       "3 other    15.00%        (13.48%, 16.61%) -2.97%         (-4.97%, -0.90%)\n",
       "4 white    17.96%        (16.68%, 19.28%)                                "
      ]
     },
     "metadata": {},
     "output_type": "display_data"
    },
    {
     "data": {
      "text/html": [
       "<table>\n",
       "<thead><tr><th scope=col>race</th><th scope=col>avg_threshold</th><th scope=col>threshold_ci</th><th scope=col>threshold_diff</th><th scope=col>diff_ci</th></tr></thead>\n",
       "<tbody>\n",
       "\t<tr><td>black           </td><td>18.49%          </td><td>(17.60%, 19.40%)</td><td>-5.79%          </td><td>(-8.86%, -3.02%)</td></tr>\n",
       "\t<tr><td>hispanic        </td><td>18.91%          </td><td>(18.01%, 19.87%)</td><td>-5.38%          </td><td>(-8.42%, -2.58%)</td></tr>\n",
       "\t<tr><td>other           </td><td>20.50%          </td><td>(17.83%, 23.49%)</td><td>-3.78%          </td><td>(-7.77%, 0.26%) </td></tr>\n",
       "\t<tr><td>white           </td><td>24.28%          </td><td>(21.64%, 27.21%)</td><td>                </td><td>                </td></tr>\n",
       "</tbody>\n",
       "</table>\n"
      ],
      "text/latex": [
       "\\begin{tabular}{r|lllll}\n",
       " race & avg\\_threshold & threshold\\_ci & threshold\\_diff & diff\\_ci\\\\\n",
       "\\hline\n",
       "\t black                & 18.49\\%             & (17.60\\%, 19.40\\%) & -5.79\\%             & (-8.86\\%, -3.02\\%)\\\\\n",
       "\t hispanic             & 18.91\\%             & (18.01\\%, 19.87\\%) & -5.38\\%             & (-8.42\\%, -2.58\\%)\\\\\n",
       "\t other                & 20.50\\%             & (17.83\\%, 23.49\\%) & -3.78\\%             & (-7.77\\%, 0.26\\%) \\\\\n",
       "\t white                & 24.28\\%             & (21.64\\%, 27.21\\%) &                      &                     \\\\\n",
       "\\end{tabular}\n"
      ],
      "text/markdown": [
       "\n",
       "race | avg_threshold | threshold_ci | threshold_diff | diff_ci | \n",
       "|---|---|---|---|\n",
       "| black            | 18.49%           | (17.60%, 19.40%) | -5.79%           | (-8.86%, -3.02%) | \n",
       "| hispanic         | 18.91%           | (18.01%, 19.87%) | -5.38%           | (-8.42%, -2.58%) | \n",
       "| other            | 20.50%           | (17.83%, 23.49%) | -3.78%           | (-7.77%, 0.26%)  | \n",
       "| white            | 24.28%           | (21.64%, 27.21%) |                  |                  | \n",
       "\n",
       "\n"
      ],
      "text/plain": [
       "  race     avg_threshold threshold_ci     threshold_diff diff_ci         \n",
       "1 black    18.49%        (17.60%, 19.40%) -5.79%         (-8.86%, -3.02%)\n",
       "2 hispanic 18.91%        (18.01%, 19.87%) -5.38%         (-8.42%, -2.58%)\n",
       "3 other    20.50%        (17.83%, 23.49%) -3.78%         (-7.77%, 0.26%) \n",
       "4 white    24.28%        (21.64%, 27.21%)                                "
      ]
     },
     "metadata": {},
     "output_type": "display_data"
    }
   ],
   "source": [
    "# Run threshold test for all searches and for just discretionary searches\n",
    "tt_results_all_searches <- threshold_test(\n",
    "  ripa_veh,\n",
    "  sub_geography,\n",
    "  geography_col = geography\n",
    ")\n",
    "write_rds(tt_results_all_searches, \"tt_results_all_searches.rds\")\n",
    "\n",
    "tt_results_discretionary_searches <- threshold_test(\n",
    "  ripa_veh %>% filter(!non_discretionary_search),\n",
    "  sub_geography,\n",
    "  geography_col = geography\n",
    ")\n",
    "write_rds(\n",
    "  tt_results_discretionary_searches, \n",
    "  \"tt_results_discretionary_searches.rds\"\n",
    ")\n",
    "\n",
    "\n",
    "# Function wrapper for convergence checks and ppcs\n",
    "model_checks <- function(model_result) {\n",
    "  fit <- model_result$metadata$fit\n",
    "  summary <- summary(fit)$summary\n",
    "  # Want this to be < 1.05\n",
    "  print(\"max Rhat\")\n",
    "  print(summary[,'Rhat'] %>% max(na.rm = T))\n",
    "  # Want this to be > 0.001\n",
    "  print(\"min n_eff\")\n",
    "  print(summary[,'n_eff'] %>% min(na.rm = T))\n",
    "\n",
    "  search_rate_ppc <- plt_ppc_rates(\n",
    "    model_result$results$thresholds,\n",
    "    rstan::extract(model_result$metadata$fit),\n",
    "    \"search_rate\",\n",
    "    numerator_col = n_action,\n",
    "    denominator_col = n,\n",
    "    title = str_c(\"LA threshold ppc - search rates\")\n",
    "  )\n",
    "\n",
    "  hit_rate_ppc <- plt_ppc_rates(\n",
    "    model_result$results$thresholds,\n",
    "    rstan::extract(model_result$metadata$fit),\n",
    "    \"hit_rate\",\n",
    "    numerator_col = n_outcome,\n",
    "    denominator_col = n_action,\n",
    "    title = str_c(\"LA threshold ppc - hit rates\")\n",
    "  )\n",
    "\n",
    "  list(\n",
    "    search_rate_ppc = search_rate_ppc,\n",
    "    hit_rate_ppc = hit_rate_ppc\n",
    "  )\n",
    "}\n",
    "\n",
    "all_search_checks <- model_checks(tt_results_all_searches)\n",
    "disc_search_checks <- model_checks(tt_results_discretionary_searches)\n",
    "\n",
    "tt_results_all_searches$results$aggregate_thresholds\n",
    "tt_results_discretionary_searches$results$aggregate_thresholds"
   ]
  },
  {
   "cell_type": "markdown",
   "metadata": {},
   "source": [
    "These result tables show that black and Latino vehicle occupants had significantly lower search thresholds than whites for all searches and for discretionary searches."
   ]
  }
 ],
 "metadata": {
  "kernelspec": {
   "display_name": "R",
   "language": "R",
   "name": "ir"
  },
  "language_info": {
   "codemirror_mode": "r",
   "file_extension": ".r",
   "mimetype": "text/x-r-source",
   "name": "R",
   "pygments_lexer": "r",
   "version": "3.4.4"
  }
 },
 "nbformat": 4,
 "nbformat_minor": 2
}
